{
  "nbformat": 4,
  "nbformat_minor": 0,
  "metadata": {
    "colab": {
      "provenance": [],
      "authorship_tag": "ABX9TyPNUC6YwUNLBzkwUEVGRd+W",
      "include_colab_link": true
    },
    "kernelspec": {
      "name": "python3",
      "display_name": "Python 3"
    },
    "language_info": {
      "name": "python"
    }
  },
  "cells": [
    {
      "cell_type": "markdown",
      "metadata": {
        "id": "view-in-github",
        "colab_type": "text"
      },
      "source": [
        "<a href=\"https://colab.research.google.com/github/assepwahid5/praktikum_1/blob/master/week_01.ipynb\" target=\"_parent\"><img src=\"https://colab.research.google.com/assets/colab-badge.svg\" alt=\"Open In Colab\"/></a>"
      ]
    },
    {
      "cell_type": "markdown",
      "source": [
        "Say Hello To the world"
      ],
      "metadata": {
        "id": "Ja1vz6HCNUEw"
      }
    },
    {
      "cell_type": "code",
      "source": [
        "# Menampilkan Kalimat\n",
        "print ('Hello, Rombel 2!')"
      ],
      "metadata": {
        "colab": {
          "base_uri": "https://localhost:8080/"
        },
        "id": "_7XS57paNdz3",
        "outputId": "e9918e39-6526-4aa1-b310-c9c95ceda3e9"
      },
      "execution_count": null,
      "outputs": [
        {
          "output_type": "stream",
          "name": "stdout",
          "text": [
            "Hello, Rombel 2!\n"
          ]
        }
      ]
    },
    {
      "cell_type": "code",
      "execution_count": null,
      "metadata": {
        "colab": {
          "base_uri": "https://localhost:8080/"
        },
        "id": "uTbLGI4CMdP0",
        "outputId": "9b30eca6-4020-43b9-b755-779b536dc751"
      },
      "outputs": [
        {
          "output_type": "stream",
          "name": "stdout",
          "text": [
            "Teknologi Informasi - Universitas Tidar\n"
          ]
        }
      ],
      "source": [
        "print (\"Teknologi Informasi - Universitas Tidar\")"
      ]
    },
    {
      "cell_type": "code",
      "source": [
        "import sys\n",
        "print (sys.version)"
      ],
      "metadata": {
        "colab": {
          "base_uri": "https://localhost:8080/"
        },
        "id": "iZ2NU6cpRNxn",
        "outputId": "a6435783-b848-4ce0-aea5-45f5530d4f3b"
      },
      "execution_count": null,
      "outputs": [
        {
          "output_type": "stream",
          "name": "stdout",
          "text": [
            "3.10.12 (main, Jul 29 2024, 16:56:48) [GCC 11.4.0]\n"
          ]
        }
      ]
    },
    {
      "cell_type": "code",
      "source": [
        "# ini merupakan komentar\n",
        "# komentar ditulis dengan awalan pagar (#)\n",
        "# misalkan terdapat sebuah kode ,jika kita sisipkan tanda pagar maka kode tersebut tidak akan dijalankan karena dianggap komentar\n",
        "# contoh\n",
        "print ('hello world'' ''python say good day')\n",
        "print ('hi')"
      ],
      "metadata": {
        "colab": {
          "base_uri": "https://localhost:8080/"
        },
        "id": "ygPNACFdRyZE",
        "outputId": "e56b0940-3e49-435b-c285-19795a199f7f"
      },
      "execution_count": null,
      "outputs": [
        {
          "output_type": "stream",
          "name": "stdout",
          "text": [
            "hello world python say good day\n",
            "hi\n"
          ]
        }
      ]
    },
    {
      "cell_type": "code",
      "source": [
        "# Berikut Merupakan Biodata Saya\n",
        "print ('Nama         : Assep Wahid')\n",
        "print ()\n",
        "print ('NPM          : 2420506028')\n",
        "print ()\n",
        "print ('Alamat       : Jl. Kapten Yahya, Magelang, Jawa Tengah')\n",
        "print ()\n",
        "print ('Tinggi Badan : 170')\n",
        "print ()\n",
        "print ('Berat Badan  : 114')"
      ],
      "metadata": {
        "colab": {
          "base_uri": "https://localhost:8080/"
        },
        "id": "HUl31_BTTo6f",
        "outputId": "f3ea4e0f-6fed-422a-b455-22ef9bd319df"
      },
      "execution_count": null,
      "outputs": [
        {
          "output_type": "stream",
          "name": "stdout",
          "text": [
            "Nama         : Assep Wahid\n",
            "\n",
            "NPM          : 2420506028\n",
            "\n",
            "Alamat       : Jl. Kapten Yahya, Magelang, Jawa Tengah\n",
            "\n",
            "Tinggi Badan : 170\n",
            "\n",
            "Berat Badan  : 114\n"
          ]
        }
      ]
    },
    {
      "cell_type": "code",
      "source": [
        "print (\"\\033[1mUNIVERSITAS TIDAR\\033[0m\")\n",
        "print (\"Universitas Tidar merupakan Perguruan Tinggi Pemerintah atau Perguruan Tinggi Negeri yang telah ditetapkan berdasarkan Peraturan Presiden Republik Indonesia Nomor 23 Tahun 2014 pada tangal 1 April 2014.\")\n",
        "print ('')\n",
        "print ('\\033[1mJURUSAN TEKNIK ELEKTRO, MEKATRONIKA DAN INFORMASI\\033[0m')\n",
        "print ('Jurusan Teknik Elektro, Mekatronika dan Informasi terdiri atas tiga program studi, antara lain:')\n",
        "print ('    1. S1 Teknik Elektro \\x1B[3m(Bachelor of Electrical Engineering)\\x1b[0m')\n",
        "print ('    2. S1 Teknologi Informasi \\x1b[3m(Bachelor of Information Technology)\\x1b[0m')\n",
        "print ('    3. S1 Teknik Mekatronika \\x1b[3m(Bachelor of Mechatronics Engineering)\\x1b[0m')"
      ],
      "metadata": {
        "colab": {
          "base_uri": "https://localhost:8080/"
        },
        "id": "BZotZd6uUafC",
        "outputId": "8343fd2b-8be7-4dca-b993-12347ca5e7ca"
      },
      "execution_count": 1,
      "outputs": [
        {
          "output_type": "stream",
          "name": "stdout",
          "text": [
            "\u001b[1mUNIVERSITAS TIDAR\u001b[0m\n",
            "Universitas Tidar merupakan Perguruan Tinggi Pemerintah atau Perguruan Tinggi Negeri yang telah ditetapkan berdasarkan Peraturan Presiden Republik Indonesia Nomor 23 Tahun 2014 pada tangal 1 April 2014.\n",
            "\n",
            "\u001b[1mJURUSAN TEKNIK ELEKTRO, MEKATRONIKA DAN INFORMASI\u001b[0m\n",
            "Jurusan Teknik Elektro, Mekatronika dan Informasi terdiri atas tiga program studi, antara lain:\n",
            "    1. S1 Teknik Elektro \u001b[3m(Bachelor of Electrical Engineering)\u001b[0m\n",
            "    2. S1 Teknologi Informasi \u001b[3m(Bachelor of Information Technology)\u001b[0m\n",
            "    3. S1 Teknik Mekatronika \u001b[3m(Bachelor of Mechatronics Engineering)\u001b[0m\n"
          ]
        }
      ]
    }
  ]
}