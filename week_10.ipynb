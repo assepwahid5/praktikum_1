{
  "nbformat": 4,
  "nbformat_minor": 0,
  "metadata": {
    "colab": {
      "provenance": [],
      "authorship_tag": "ABX9TyMUgbeI69ax+eHhnVLCWw3t",
      "include_colab_link": true
    },
    "kernelspec": {
      "name": "python3",
      "display_name": "Python 3"
    },
    "language_info": {
      "name": "python"
    }
  },
  "cells": [
    {
      "cell_type": "markdown",
      "metadata": {
        "id": "view-in-github",
        "colab_type": "text"
      },
      "source": [
        "<a href=\"https://colab.research.google.com/github/assepwahid5/praktikum_1/blob/master/week_10.ipynb\" target=\"_parent\"><img src=\"https://colab.research.google.com/assets/colab-badge.svg\" alt=\"Open In Colab\"/></a>"
      ]
    },
    {
      "cell_type": "code",
      "execution_count": null,
      "metadata": {
        "id": "d4jymLADlGhm",
        "colab": {
          "base_uri": "https://localhost:8080/"
        },
        "outputId": "72550365-11b6-4d45-d56e-f73bc021e7bd"
      },
      "outputs": [
        {
          "output_type": "stream",
          "name": "stdout",
          "text": [
            "Hello from a function\n"
          ]
        }
      ],
      "source": [
        "def my_function():\n",
        "  print(\"Hello from a function\")\n",
        "my_function()"
      ]
    },
    {
      "cell_type": "code",
      "source": [
        "def my_function(fname):\n",
        "  print(fname + \"Wahid\")\n",
        "\n",
        "my_function(\"agus \")\n",
        "my_function(\"dermawan \")\n",
        "my_function(\"bagus \")\n",
        "my_function(\"Assep \")"
      ],
      "metadata": {
        "colab": {
          "base_uri": "https://localhost:8080/"
        },
        "id": "-beXFqpsrSly",
        "outputId": "2c07d617-b0b5-4416-c92d-24e2010f820c"
      },
      "execution_count": null,
      "outputs": [
        {
          "output_type": "stream",
          "name": "stdout",
          "text": [
            "agus Wahid\n",
            "dermawan Wahid\n",
            "bagus Wahid\n",
            "Assep Wahid\n"
          ]
        }
      ]
    },
    {
      "cell_type": "code",
      "source": [
        "def nama_teman(name):\n",
        "    print(\"Hallo, \" + name + \"! bagaimana kabarnya\")\n",
        "\n",
        "nama_teman(\"bagus\")\n",
        "nama_teman(\"agus\")\n",
        "nama_teman(\"dono\")"
      ],
      "metadata": {
        "colab": {
          "base_uri": "https://localhost:8080/"
        },
        "id": "cGOw65LO2ZmR",
        "outputId": "ce570860-f21f-49ae-9343-e393a44baa77"
      },
      "execution_count": 1,
      "outputs": [
        {
          "output_type": "stream",
          "name": "stdout",
          "text": [
            "Hallo, bagus! bagaimana kabarnya\n",
            "Hallo, agus! bagaimana kabarnya\n",
            "Hallo, dono! bagaimana kabarnya\n"
          ]
        }
      ]
    },
    {
      "cell_type": "code",
      "source": [
        "def my_function(fname,lname):\n",
        "  print(fname + \" \" + lname)\n",
        "my_function(\"Assep\",\"Wahid\")"
      ],
      "metadata": {
        "colab": {
          "base_uri": "https://localhost:8080/"
        },
        "id": "_Wso-GRjziWI",
        "outputId": "77e4f53d-252e-4108-bdcd-1c15e17441db"
      },
      "execution_count": null,
      "outputs": [
        {
          "output_type": "stream",
          "name": "stdout",
          "text": [
            "Assep Wahid\n"
          ]
        }
      ]
    },
    {
      "cell_type": "code",
      "source": [
        "def my_function(fname,lname):\n",
        "  print(fname + \" \" + lname)\n",
        "my_function(\"wahid\")"
      ],
      "metadata": {
        "colab": {
          "base_uri": "https://localhost:8080/",
          "height": 176
        },
        "id": "3HFD3af70yxx",
        "outputId": "5fa317e6-7556-46da-aa6d-cafc80080d83"
      },
      "execution_count": null,
      "outputs": [
        {
          "output_type": "error",
          "ename": "TypeError",
          "evalue": "my_function() missing 1 required positional argument: 'lname'",
          "traceback": [
            "\u001b[0;31m---------------------------------------------------------------------------\u001b[0m",
            "\u001b[0;31mTypeError\u001b[0m                                 Traceback (most recent call last)",
            "\u001b[0;32m<ipython-input-10-69e04813b949>\u001b[0m in \u001b[0;36m<cell line: 3>\u001b[0;34m()\u001b[0m\n\u001b[1;32m      1\u001b[0m \u001b[0;32mdef\u001b[0m \u001b[0mmy_function\u001b[0m\u001b[0;34m(\u001b[0m\u001b[0mfname\u001b[0m\u001b[0;34m,\u001b[0m\u001b[0mlname\u001b[0m\u001b[0;34m)\u001b[0m\u001b[0;34m:\u001b[0m\u001b[0;34m\u001b[0m\u001b[0;34m\u001b[0m\u001b[0m\n\u001b[1;32m      2\u001b[0m   \u001b[0mprint\u001b[0m\u001b[0;34m(\u001b[0m\u001b[0mfname\u001b[0m \u001b[0;34m+\u001b[0m \u001b[0;34m\" \"\u001b[0m \u001b[0;34m+\u001b[0m \u001b[0mlname\u001b[0m\u001b[0;34m)\u001b[0m\u001b[0;34m\u001b[0m\u001b[0;34m\u001b[0m\u001b[0m\n\u001b[0;32m----> 3\u001b[0;31m \u001b[0mmy_function\u001b[0m\u001b[0;34m(\u001b[0m\u001b[0;34m\"wahid\"\u001b[0m\u001b[0;34m)\u001b[0m\u001b[0;34m\u001b[0m\u001b[0;34m\u001b[0m\u001b[0m\n\u001b[0m",
            "\u001b[0;31mTypeError\u001b[0m: my_function() missing 1 required positional argument: 'lname'"
          ]
        }
      ]
    },
    {
      "cell_type": "code",
      "source": [
        "def my_function(*film):\n",
        "  print(\"film terfavorit adalah \" + film[3])\n",
        "my_function(\"Hotel del luna\" , \"Vagabond\", \"Scarlet heart ryo\" , \"Twinkling Watermelon\")"
      ],
      "metadata": {
        "id": "KrXdkyO-2I-x",
        "colab": {
          "base_uri": "https://localhost:8080/"
        },
        "outputId": "ad689ca5-eba7-483a-8f7a-dc15b7db54ce"
      },
      "execution_count": null,
      "outputs": [
        {
          "output_type": "stream",
          "name": "stdout",
          "text": [
            "film terfavorit adalah Twinkling Watermelon\n"
          ]
        }
      ]
    },
    {
      "cell_type": "code",
      "source": [
        "def my_function(film1,film2,film3,film4):\n",
        "  print(\"film terfavorit adalah \" + film4)\n",
        "my_function(film1=\"Hotel del luna\" , film2=\"Vagabond\",film3= \"Scarlet heart ryo\" , film4 =\"Twinkling Watermelon\")"
      ],
      "metadata": {
        "colab": {
          "base_uri": "https://localhost:8080/"
        },
        "id": "AfrBGCODxbjT",
        "outputId": "bbc5c0a8-73a7-4439-f719-b2936316cd17"
      },
      "execution_count": null,
      "outputs": [
        {
          "output_type": "stream",
          "name": "stdout",
          "text": [
            "film terfavorit adalah Twinkling Watermelon\n"
          ]
        }
      ]
    },
    {
      "cell_type": "code",
      "source": [
        "def my_function(**film):\n",
        "  print(\"nama terakhir film adalah \" + film[\"lname\"])\n",
        "my_function(fname = \"Twinkling\", lname=\"Watermelon\")"
      ],
      "metadata": {
        "colab": {
          "base_uri": "https://localhost:8080/"
        },
        "id": "Z_a2B9Ykyy6u",
        "outputId": "9dfd5e0f-e543-430d-d9c2-9555e9719742"
      },
      "execution_count": null,
      "outputs": [
        {
          "output_type": "stream",
          "name": "stdout",
          "text": [
            "nama terakhir film adalah Watermelon\n"
          ]
        }
      ]
    },
    {
      "cell_type": "code",
      "source": [
        "def my_function(city = \"Jakarta\"):\n",
        "  print(\"I am from \" + city)\n",
        "\n",
        "my_function(\"Magelang\")\n",
        "my_function(\"Tanggerang\")\n",
        "my_function()\n",
        "my_function(\"Bekasi\")"
      ],
      "metadata": {
        "colab": {
          "base_uri": "https://localhost:8080/"
        },
        "id": "8L8XkLmf0WQl",
        "outputId": "5fdba2df-c77d-409b-a8db-78f756141bda"
      },
      "execution_count": null,
      "outputs": [
        {
          "output_type": "stream",
          "name": "stdout",
          "text": [
            "I am from Magelang\n",
            "I am from Tanggerang\n",
            "I am from Jakarta\n",
            "I am from Bekasi\n"
          ]
        }
      ]
    },
    {
      "cell_type": "code",
      "source": [
        "def double_number(number):\n",
        "    return number * 2\n",
        "\n",
        "result = double_number(8)\n",
        "print(\"Double the number is:\", result)"
      ],
      "metadata": {
        "colab": {
          "base_uri": "https://localhost:8080/"
        },
        "id": "uf9RhLSW7q92",
        "outputId": "ee29ce65-716b-4785-eac8-acbdf590e7b7"
      },
      "execution_count": 2,
      "outputs": [
        {
          "output_type": "stream",
          "name": "stdout",
          "text": [
            "Double the number is: 16\n"
          ]
        }
      ]
    },
    {
      "cell_type": "code",
      "source": [
        "def print_fruits(fruits):\n",
        "    for fruit in fruits:\n",
        "        print(fruit)\n",
        "\n",
        "fruit_list = [\"apple\", \"mango\", \"banana\"]\n",
        "print_fruits(fruit_list)"
      ],
      "metadata": {
        "colab": {
          "base_uri": "https://localhost:8080/"
        },
        "id": "oUaWzg9b9KSg",
        "outputId": "4ec3fa93-06bd-48d5-9eef-2c0fabb01ec4"
      },
      "execution_count": 3,
      "outputs": [
        {
          "output_type": "stream",
          "name": "stdout",
          "text": [
            "apple\n",
            "mango\n",
            "banana\n"
          ]
        }
      ]
    },
    {
      "cell_type": "code",
      "source": [
        "def countdown(n):\n",
        "    if n > 0:\n",
        "        print(n)\n",
        "        countdown(n - 1)\n",
        "    else:\n",
        "        print(\"Finished!\")\n",
        "\n",
        "countdown(5)"
      ],
      "metadata": {
        "colab": {
          "base_uri": "https://localhost:8080/"
        },
        "id": "5D9UYouP9z9j",
        "outputId": "2a37f375-3704-41c3-c9d9-58d401dd02f9"
      },
      "execution_count": 4,
      "outputs": [
        {
          "output_type": "stream",
          "name": "stdout",
          "text": [
            "5\n",
            "4\n",
            "3\n",
            "2\n",
            "1\n",
            "Finished!\n"
          ]
        }
      ]
    },
    {
      "cell_type": "code",
      "source": [
        "def faktorial(x):\n",
        "    if x == 1:\n",
        "        return 1\n",
        "    else:\n",
        "        return (x * faktorial(x-1))\n",
        "\n",
        "angka = int(input(\"Masukkan angka untuk menghitung faktorial: \")) # meminta angka pada pengguna\n",
        "hasil = faktorial(angka)\n",
        "\n",
        "print(f\"Faktorial dari {angka} adalah {hasil}\") # menampilkan angka faktorial dan hasilnya\n"
      ],
      "metadata": {
        "colab": {
          "base_uri": "https://localhost:8080/"
        },
        "id": "cBKt-5m_04s7",
        "outputId": "241e3bf4-3268-46df-c96b-2be65739fe15"
      },
      "execution_count": null,
      "outputs": [
        {
          "output_type": "stream",
          "name": "stdout",
          "text": [
            "Masukkan angka untuk menghitung faktorial: 5\n",
            "Faktorial dari 5 adalah 120\n"
          ]
        }
      ]
    },
    {
      "cell_type": "code",
      "source": [
        "print(\"=== Kalkulator Luas Bangun Datar ===\")\n",
        "\n",
        "while True:\n",
        "    print(\"\\nPilih salah satu:\")\n",
        "    print(\"1. Luas Lingkaran\")\n",
        "    print(\"2. Luas Persegi\")\n",
        "    print(\"3. Luas Segitiga\")\n",
        "    print(\"4. Keluar\")\n",
        "\n",
        "    pilihan = input(\"Masukkan pilihan (1-4): \")\n",
        "\n",
        "    if pilihan == '1':\n",
        "        # Hitung luas lingkaran\n",
        "        print(\"Hitung Luas Lingkaran\")\n",
        "        jari_jari = input(\"Masukkan jari-jari: \")\n",
        "        jari_jari = float(jari_jari)\n",
        "        luas_lingkaran = 3.14 * jari_jari * jari_jari\n",
        "        print(\"Luas lingkaran adalah\", luas_lingkaran)\n",
        "\n",
        "    elif pilihan == '2':\n",
        "        # Hitung luas persegi\n",
        "        print(\"Hitung Luas Persegi\")\n",
        "        sisi = input(\"Masukkan panjang sisi: \")\n",
        "        sisi = float(sisi)\n",
        "        luas_persegi = sisi * sisi\n",
        "        print(\"Luas persegi adalah\", luas_persegi)\n",
        "\n",
        "    elif pilihan == '3':\n",
        "        # Hitung luas segitiga\n",
        "        print(\"Hitung Luas Segitiga\")\n",
        "        alas = input(\"Masukkan panjang alas: \")\n",
        "        tinggi = input(\"Masukkan tinggi: \")\n",
        "        alas = float(alas)\n",
        "        tinggi = float(tinggi)\n",
        "        luas_segitiga = 0.5 * alas * tinggi\n",
        "        print(\"Luas segitiga adalah\", luas_segitiga)\n",
        "\n",
        "    elif pilihan == '4':\n",
        "        print(\"Terima kasih! Program selesai.\")\n",
        "        break\n",
        "\n",
        "    else:\n",
        "        print(\"Pilihan tidak valid. Coba lagi.\")\n"
      ],
      "metadata": {
        "colab": {
          "base_uri": "https://localhost:8080/"
        },
        "id": "TYau6auK4tgd",
        "outputId": "c002cbdd-f071-48ef-b7a1-b1aa2cd6f00f"
      },
      "execution_count": null,
      "outputs": [
        {
          "output_type": "stream",
          "name": "stdout",
          "text": [
            "=== Kalkulator Luas Bangun Datar ===\n",
            "\n",
            "Pilih salah satu:\n",
            "1. Luas Lingkaran\n",
            "2. Luas Persegi\n",
            "3. Luas Segitiga\n",
            "4. Keluar\n",
            "Masukkan pilihan (1-4): 3\n",
            "Hitung Luas Segitiga\n",
            "Masukkan panjang alas: 12\n",
            "Masukkan tinggi: 4\n",
            "Luas segitiga adalah 24.0\n",
            "\n",
            "Pilih salah satu:\n",
            "1. Luas Lingkaran\n",
            "2. Luas Persegi\n",
            "3. Luas Segitiga\n",
            "4. Keluar\n",
            "Masukkan pilihan (1-4): 4\n",
            "Terima kasih! Program selesai.\n"
          ]
        }
      ]
    }
  ]
}