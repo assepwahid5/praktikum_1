{
 "cells": [
  {
   "cell_type": "code",
   "execution_count": 83,
   "metadata": {},
   "outputs": [
    {
     "name": "stdout",
     "output_type": "stream",
     "text": [
      "Nama : Assep Wahid\n",
      "\n",
      "Program Studi : S1 Teknologi Informasi\n",
      "\n",
      "Email : wahidassep5@gmail.com\n"
     ]
    }
   ],
   "source": [
    "with open('Biodata.txt', \"r\") as file1:\n",
    "    fileterambil = file1.readlines()\n",
    "\n",
    "    print (fileterambil[0])\n",
    "    print (fileterambil[1])\n",
    "    print (fileterambil[5])\n",
    "    "
   ]
  },
  {
   "cell_type": "code",
   "execution_count": 103,
   "metadata": {},
   "outputs": [
    {
     "name": "stdout",
     "output_type": "stream",
     "text": [
      "Nama : Assep Wahid\n",
      "\n",
      "NPM : 2420506028\n",
      "\n",
      "Program Studi : S1 Teknologi Informasi\n",
      "\n",
      "Alamat : Jl.kapten Yahya,Magelang Utara,Jawa Tengah\n",
      "\n"
     ]
    }
   ],
   "source": [
    "with open('Biodata.txt', \"r\") as file1:\n",
    "    fileterambil = file1.readlines()\n",
    "    print (fileterambil[0])\n",
    "    print (fileterambil[2])\n",
    "    print (fileterambil[1])\n",
    "    print (fileterambil[3])\n",
    "    with open('Wadahbaru','w') as writefile:\n",
    "        for line in fileterambil[0],fileterambil[2],fileterambil[1],fileterambil[3]:\n",
    "                writefile.write(line)"
   ]
  },
  {
   "cell_type": "code",
   "execution_count": 108,
   "metadata": {},
   "outputs": [],
   "source": [
    "with open('Biodata.txt', \"r\") as file1:\n",
    "    fileterambil = file1.readlines()\n",
    "    with open('Wadahbaru','w') as writefile:\n",
    "        for line in fileterambil[0],fileterambil[2],fileterambil[1],fileterambil[3]:\n",
    "                writefile.write(line)"
   ]
  },
  {
   "cell_type": "code",
   "execution_count": 93,
   "metadata": {},
   "outputs": [
    {
     "ename": "FileNotFoundError",
     "evalue": "[Errno 2] No such file or directory: '/resources/data/Example2.txt'",
     "output_type": "error",
     "traceback": [
      "\u001b[1;31m---------------------------------------------------------------------------\u001b[0m",
      "\u001b[1;31mFileNotFoundError\u001b[0m                         Traceback (most recent call last)",
      "Cell \u001b[1;32mIn[93], line 1\u001b[0m\n\u001b[1;32m----> 1\u001b[0m \u001b[38;5;28;01mwith\u001b[39;00m \u001b[38;5;28;43mopen\u001b[39;49m\u001b[43m(\u001b[49m\u001b[38;5;124;43m'\u001b[39;49m\u001b[38;5;124;43m/resources/data/Example2.txt\u001b[39;49m\u001b[38;5;124;43m'\u001b[39;49m\u001b[43m,\u001b[49m\u001b[43m \u001b[49m\u001b[38;5;124;43m'\u001b[39;49m\u001b[38;5;124;43mw\u001b[39;49m\u001b[38;5;124;43m'\u001b[39;49m\u001b[43m)\u001b[49m \u001b[38;5;28;01mas\u001b[39;00m writefile:\n\u001b[0;32m      2\u001b[0m     writefile\u001b[38;5;241m.\u001b[39mwrite(\u001b[38;5;124m\"\u001b[39m\u001b[38;5;124mThis is line A\u001b[39m\u001b[38;5;124m\"\u001b[39m)\n",
      "File \u001b[1;32m~\\AppData\\Local\\Packages\\PythonSoftwareFoundation.Python.3.11_qbz5n2kfra8p0\\LocalCache\\local-packages\\Python311\\site-packages\\IPython\\core\\interactiveshell.py:324\u001b[0m, in \u001b[0;36m_modified_open\u001b[1;34m(file, *args, **kwargs)\u001b[0m\n\u001b[0;32m    317\u001b[0m \u001b[38;5;28;01mif\u001b[39;00m file \u001b[38;5;129;01min\u001b[39;00m {\u001b[38;5;241m0\u001b[39m, \u001b[38;5;241m1\u001b[39m, \u001b[38;5;241m2\u001b[39m}:\n\u001b[0;32m    318\u001b[0m     \u001b[38;5;28;01mraise\u001b[39;00m \u001b[38;5;167;01mValueError\u001b[39;00m(\n\u001b[0;32m    319\u001b[0m         \u001b[38;5;124mf\u001b[39m\u001b[38;5;124m\"\u001b[39m\u001b[38;5;124mIPython won\u001b[39m\u001b[38;5;124m'\u001b[39m\u001b[38;5;124mt let you open fd=\u001b[39m\u001b[38;5;132;01m{\u001b[39;00mfile\u001b[38;5;132;01m}\u001b[39;00m\u001b[38;5;124m by default \u001b[39m\u001b[38;5;124m\"\u001b[39m\n\u001b[0;32m    320\u001b[0m         \u001b[38;5;124m\"\u001b[39m\u001b[38;5;124mas it is likely to crash IPython. If you know what you are doing, \u001b[39m\u001b[38;5;124m\"\u001b[39m\n\u001b[0;32m    321\u001b[0m         \u001b[38;5;124m\"\u001b[39m\u001b[38;5;124myou can use builtins\u001b[39m\u001b[38;5;124m'\u001b[39m\u001b[38;5;124m open.\u001b[39m\u001b[38;5;124m\"\u001b[39m\n\u001b[0;32m    322\u001b[0m     )\n\u001b[1;32m--> 324\u001b[0m \u001b[38;5;28;01mreturn\u001b[39;00m \u001b[43mio_open\u001b[49m\u001b[43m(\u001b[49m\u001b[43mfile\u001b[49m\u001b[43m,\u001b[49m\u001b[43m \u001b[49m\u001b[38;5;241;43m*\u001b[39;49m\u001b[43margs\u001b[49m\u001b[43m,\u001b[49m\u001b[43m \u001b[49m\u001b[38;5;241;43m*\u001b[39;49m\u001b[38;5;241;43m*\u001b[39;49m\u001b[43mkwargs\u001b[49m\u001b[43m)\u001b[49m\n",
      "\u001b[1;31mFileNotFoundError\u001b[0m: [Errno 2] No such file or directory: '/resources/data/Example2.txt'"
     ]
    }
   ],
   "source": [
    "with open('/resources/data/Example2.txt', 'w') as writefile:\n",
    "    writefile.write(\"This is line A\")"
   ]
  },
  {
   "cell_type": "code",
   "execution_count": null,
   "metadata": {},
   "outputs": [
    {
     "name": "stdout",
     "output_type": "stream",
     "text": [
      "Nama : Assep Wahid\n",
      "\n",
      "Program Studi : S1 Teknologi Informasi\n",
      "\n",
      "Email : wahidassep5@gmail.com\n"
     ]
    }
   ],
   "source": [
    "with open('Biodata.txt', \"r\") as file1:\n",
    "    fileterambil = file1.readlines()\n",
    "\n",
    "    print (fileterambil[0])\n",
    "    print (fileterambil[1])\n",
    "    print (fileterambil[5])\n",
    "\n",
    "    (fileterambil[0])\n",
    "    (fileterambil[2])\n",
    "    (fileterambil[1])\n",
    "    (fileterambil[3])\n",
    "    with open('Wadahbaru','w') as writefile:\n",
    "        for line in fileterambil:\n",
    "                writefile.write(line)\n",
    "    "
   ]
  },
  {
   "cell_type": "code",
   "execution_count": null,
   "metadata": {},
   "outputs": [
    {
     "name": "stdout",
     "output_type": "stream",
     "text": [
      "Nama : Assep Wahid\n",
      "\n",
      "Program Studi : S1 Teknologi Informasi\n",
      "\n",
      "Email : wahidassep5@gmail.com\n"
     ]
    }
   ],
   "source": [
    "with open('Biodata.txt', \"r\") as file1:\n",
    "    fileterambil = file1.readlines()\n",
    "\n",
    "    print (fileterambil[0])\n",
    "    print (fileterambil[1])\n",
    "    print (fileterambil[5])\n",
    "    "
   ]
  },
  {
   "cell_type": "code",
   "execution_count": null,
   "metadata": {},
   "outputs": [],
   "source": [
    "with open('Biodata.txt', \"r\") as file1:\n",
    "    fileterambil = file1.readlines()\n",
    "\n",
    "    print (fileterambil[0])\n",
    "    print (fileterambil[1])\n",
    "    print (fileterambil[5])"
   ]
  },
  {
   "cell_type": "code",
   "execution_count": 45,
   "metadata": {},
   "outputs": [
    {
     "name": "stdout",
     "output_type": "stream",
     "text": [
      "Email : wahidassep5@gmail.com\n"
     ]
    }
   ],
   "source": [
    "with open('Biodata.txt', \"r\") as file1:\n",
    "    FileasList = file1.readlines()\n",
    "\n",
    "    \n",
    "    print(FileasList[5])"
   ]
  },
  {
   "cell_type": "code",
   "execution_count": 34,
   "metadata": {},
   "outputs": [
    {
     "ename": "NameError",
     "evalue": "name 'readlines' is not defined",
     "output_type": "error",
     "traceback": [
      "\u001b[1;31m---------------------------------------------------------------------------\u001b[0m",
      "\u001b[1;31mNameError\u001b[0m                                 Traceback (most recent call last)",
      "Cell \u001b[1;32mIn[34], line 1\u001b[0m\n\u001b[1;32m----> 1\u001b[0m \u001b[43mreadlines\u001b[49m[\u001b[38;5;241m4\u001b[39m]\n",
      "\u001b[1;31mNameError\u001b[0m: name 'readlines' is not defined"
     ]
    }
   ],
   "source": [
    "readlines[4]"
   ]
  },
  {
   "cell_type": "code",
   "execution_count": null,
   "metadata": {},
   "outputs": [],
   "source": []
  },
  {
   "cell_type": "code",
   "execution_count": 17,
   "metadata": {},
   "outputs": [
    {
     "ename": "NameError",
     "evalue": "name 'biodata' is not defined",
     "output_type": "error",
     "traceback": [
      "\u001b[1;31m---------------------------------------------------------------------------\u001b[0m",
      "\u001b[1;31mNameError\u001b[0m                                 Traceback (most recent call last)",
      "Cell \u001b[1;32mIn[17], line 1\u001b[0m\n\u001b[1;32m----> 1\u001b[0m \u001b[38;5;28;01mwith\u001b[39;00m \u001b[38;5;28mopen\u001b[39m(\u001b[43mbiodata\u001b[49m\u001b[38;5;241m.\u001b[39mtxt, \u001b[38;5;124m\"\u001b[39m\u001b[38;5;124mr\u001b[39m\u001b[38;5;124m\"\u001b[39m) \u001b[38;5;28;01mas\u001b[39;00m file1:\n\u001b[0;32m      2\u001b[0m     FileasList[\u001b[38;5;241m1\u001b[39m] \u001b[38;5;241m=\u001b[39m file1\u001b[38;5;241m.\u001b[39mreadlines()\n\u001b[0;32m      3\u001b[0m     \u001b[38;5;28mprint\u001b[39m (fileaslist)\n",
      "\u001b[1;31mNameError\u001b[0m: name 'biodata' is not defined"
     ]
    }
   ],
   "source": [
    "with open(biodata.txt, \"r\") as file1:\n",
    "    FileasList = file1.readlines()\n",
    "    print (fileaslist)"
   ]
  },
  {
   "cell_type": "code",
   "execution_count": null,
   "metadata": {},
   "outputs": [],
   "source": [
    "print (\"Selamat datang di Toko Maju Jaya\")\n",
    "print (\"Senin, 4 September 2023       13.05\")\n",
    "print(\" \"\n",
    "\n",
    "print \"DAFTAR BELANJA:\")\n",
    "item1 = 'Sabun'\n",
    "item2 = 'Shampo'\n",
    "item3 = 'Mie instant'\n",
    "item4 = 'Detergen'\n",
    "harga1 = 'Rp 10000'\n",
    "harga2 = '15000\n",
    "harga3 = Rp 5000\n",
    "harga4 = 17500\n",
    "\n",
    "total = hargga1+harga2+hargga3+harga\n",
    "\n",
    "print(item1,          = Rp  + harga1)\n",
    "print(item2, '        = Rp '+ harga2)\n",
    "print(item3,    = Rp + hargaa3)\n",
    "print(item4,       = Rp + harga)\n",
    "\n",
    "print(\" \")\n",
    "print(\"Total = Rp \"+total)\n",
    "\n",
    "with open('Kuitansi.txt', w') writefile:\n",
    "        writefiile.write(\"Selamat Datang di Toko Maju Jaya\\n\")\n",
    "        writefille.write(\" \\n\")\n",
    "        writefiile.write(\"Kuitansi - 4 Septermber 2023\\n\")\n",
    "        writefille.write(\" \\n\")\n",
    "        writefiile.write(item1+\" = Rp \" harga1+\"\\n\"\n",
    "        writefille.write(item2+\" = Rp \" harga2\")\n",
    "        writefiile.write(item3+\" = Rp \" harga3+\\n\")\n",
    "        writefille.write(item4+\" = Rp \" harga4+\"\\n)\n",
    "        writefiile.write(\" \\n\")\n",
    "        writefille.write(\"Total Belanja =\"+total"
   ]
  },
  {
   "cell_type": "code",
   "execution_count": 106,
   "metadata": {},
   "outputs": [
    {
     "name": "stdout",
     "output_type": "stream",
     "text": [
      "Selamat datang di Toko Maju Jaya\n",
      "Senin, 4 September 2023       13.05\n",
      "\n",
      "DAFTAR BELANJA:\n",
      "{'Sabun'} = Rp {10000}\n",
      "{'Shampo'} = Rp {15000}\n",
      "{'Mie instant'} = Rp {5000}\n",
      "{'Detergen'} = Rp {17500}\n",
      "\n"
     ]
    },
    {
     "ename": "TypeError",
     "evalue": "bad operand type for unary +: 'set'",
     "output_type": "error",
     "traceback": [
      "\u001b[1;31m---------------------------------------------------------------------------\u001b[0m",
      "\u001b[1;31mTypeError\u001b[0m                                 Traceback (most recent call last)",
      "Cell \u001b[1;32mIn[106], line 23\u001b[0m\n\u001b[0;32m     20\u001b[0m \u001b[38;5;28mprint\u001b[39m({item4},\u001b[38;5;124m\"\u001b[39m\u001b[38;5;124m= Rp\u001b[39m\u001b[38;5;124m\"\u001b[39m,{harga4})\n\u001b[0;32m     22\u001b[0m \u001b[38;5;28mprint\u001b[39m()\n\u001b[1;32m---> 23\u001b[0m \u001b[38;5;28mprint\u001b[39m(\u001b[38;5;124m\"\u001b[39m\u001b[38;5;124mTotal = Rp\u001b[39m\u001b[38;5;124m\"\u001b[39m,\u001b[38;5;241;43m+\u001b[39;49m\u001b[43m \u001b[49m\u001b[43m{\u001b[49m\u001b[43mtotal\u001b[49m\u001b[43m}\u001b[49m)\n\u001b[0;32m     25\u001b[0m \u001b[38;5;28;01mwith\u001b[39;00m \u001b[38;5;28mopen\u001b[39m(\u001b[38;5;124m'\u001b[39m\u001b[38;5;124mKuitansi.txt\u001b[39m\u001b[38;5;124m'\u001b[39m, \u001b[38;5;124m'\u001b[39m\u001b[38;5;124mw\u001b[39m\u001b[38;5;124m'\u001b[39m) \u001b[38;5;28;01mas\u001b[39;00m writefile:\n\u001b[0;32m     26\u001b[0m     writefile\u001b[38;5;241m.\u001b[39mwrite(\u001b[38;5;124m\"\u001b[39m\u001b[38;5;124mSelamat Datang di Toko Maju Jaya\u001b[39m\u001b[38;5;130;01m\\n\u001b[39;00m\u001b[38;5;124m\"\u001b[39m)\n",
      "\u001b[1;31mTypeError\u001b[0m: bad operand type for unary +: 'set'"
     ]
    }
   ],
   "source": [
    "print(\"Selamat datang di Toko Maju Jaya\")\n",
    "print(\"Senin, 4 September 2023       13.05\")\n",
    "print()\n",
    "\n",
    "print(\"DAFTAR BELANJA:\")\n",
    "item1 = \"Sabun\"\n",
    "item2 = \"Shampo\"\n",
    "item3 = \"Mie instant\"\n",
    "item4 = \"Detergen\"\n",
    "harga1 = 10000\n",
    "harga2 = 15000\n",
    "harga3 = 5000\n",
    "harga4 = 17500\n",
    "\n",
    "total = harga1 + harga2 + harga3 + harga4\n",
    "\n",
    "print({item1},\"= Rp\",{harga1})\n",
    "print({item2},\"= Rp\",{harga2})\n",
    "print({item3},\"= Rp\",{harga3})\n",
    "print({item4},\"= Rp\",{harga4})\n",
    "\n",
    "print()\n",
    "print(\"Total = Rp\",+ {total})\n",
    "\n",
    "with open('Kuitansi.txt', 'w') as writefile:\n",
    "    writefile.write(\"Selamat Datang di Toko Maju Jaya\\n\")\n",
    "    writefile.write(\"\\n\")\n",
    "    writefile.write(\"Kuitansi - 4 September 2023\\n\")\n",
    "    writefile.write(\"\\n\")\n",
    "    writefile.write({item1},+\" = Rp \",+{harga1},\"\\n\")\n",
    "    writefile.write(f\"{item2} = Rp {harga2}\\n\")\n",
    "    writefile.write(f\"{item3} = Rp {harga3}\\n\")\n",
    "    writefile.write(f\"{item4} = Rp {harga4}\\n\")\n",
    "    writefile.write(\"\\n\")\n",
    "    writefile.write(f\"Total Belanja = Rp {total}\\n\")"
   ]
  },
  {
   "cell_type": "code",
   "execution_count": 107,
   "metadata": {},
   "outputs": [
    {
     "name": "stdout",
     "output_type": "stream",
     "text": [
      "Selamat datang di Toko Maju Jaya\n",
      "Senin, 4 September 2023       13.05\n",
      "\n",
      "DAFTAR BELANJA:\n",
      "Sabun         = Rp 10000\n",
      "Shampo        = Rp 15000\n",
      "Mie instant    = Rp 5000\n",
      "Detergen       = Rp 17500\n",
      "\n",
      "Total = Rp 47500\n"
     ]
    }
   ],
   "source": [
    "print(\"Selamat datang di Toko Maju Jaya\")\n",
    "print(\"Senin, 4 September 2023       13.05\")\n",
    "print()\n",
    "\n",
    "print(\"DAFTAR BELANJA:\")\n",
    "item1 = \"Sabun\"\n",
    "item2 = 'Shampo'\n",
    "item3 = \"Mie instant\"\n",
    "item4 = \"Detergen\"\n",
    "harga1 = 10000\n",
    "harga2 = 15000\n",
    "harga3 = 5000\n",
    "harga4 = 17500\n",
    "\n",
    "total = harga1 + harga2 + harga3 + harga4\n",
    "\n",
    "print(f\"{item1}         = Rp {harga1}\")\n",
    "print(f\"{item2}        = Rp {harga2}\")\n",
    "print(f\"{item3}    = Rp {harga3}\")\n",
    "print(f\"{item4}       = Rp {harga4}\")\n",
    "\n",
    "print()\n",
    "print(f\"Total = Rp {total}\")\n",
    "\n",
    "with open('Kuitansi.txt', 'w') as writefile:\n",
    "    writefile.write(\"Selamat Datang di Toko Maju Jaya\\n\")\n",
    "    writefile.write(\"\\n\")\n",
    "    writefile.write(\"Kuitansi - 4 September 2023\\n\")\n",
    "    writefile.write(\"\\n\")\n",
    "    writefile.write(f\"{item1} = Rp {harga1}\\n\")\n",
    "    writefile.write(f\"{item2} = Rp {harga2}\\n\")\n",
    "    writefile.write(f\"{item3} = Rp {harga3}\\n\")\n",
    "    writefile.write(f\"{item4} = Rp {harga4}\\n\")\n",
    "    writefile.write(\"\\n\")\n",
    "    writefile.write(f\"Total Belanja = Rp {total}\\n\")"
   ]
  },
  {
   "cell_type": "code",
   "execution_count": 109,
   "metadata": {},
   "outputs": [
    {
     "name": "stdout",
     "output_type": "stream",
     "text": [
      "Selamat datang di Toko Maju Jaya\n",
      "Senin, 4 September 2023       13.05\n",
      " \n",
      "DAFTAR BELANJA:\n",
      "Sabun  = Rp 10000\n",
      "Shampo  = Rp 15000\n",
      "Mie instant  = Rp 5000\n",
      "Detergen  = Rp 17500\n",
      " \n",
      "Total = Rp 47500\n"
     ]
    }
   ],
   "source": [
    "# bagian ini untuk menampilkan pesan selmat datang\n",
    "print(\"Selamat datang di Toko Maju Jaya\")\n",
    "print(\"Senin, 4 September 2023       13.05\") #kita tambahkan buka kurung ( disini\n",
    "print(\" \") #kita tambahkan tutup kurung ) disini\n",
    "\n",
    "# bagian ini menampilkan maksud dari data dibawah (yaitu daftar belanja)\n",
    "print(\"DAFTAR BELANJA:\") #kita tambahkan buka kurung ( disini\n",
    "\n",
    "# mendefinisikan item dan harga\n",
    "item1 = \"Sabun\"\n",
    "item2 = 'Shampo'\n",
    "item3 = \"Mie instant\"  # kita tambahkan tanda kutip/petik karena mie instant termasuk ke tipe data string temen-temen\n",
    "item4 = \"Detergen\" # sama halnya mie instant ,detergent merupakan tipe data string maka dari itu kita tambahkan tanda kutip/petik\n",
    "# kita hapus Rp dari setiap harga karena pada harga kita menggunakan tipe data integer\n",
    "harga1 = 10000  \n",
    "harga2 = 15000\n",
    "harga3 = 5000\n",
    "harga4 = 17500\n",
    "\n",
    "# mengkalkulasi total\n",
    "total = harga1 + harga2 + harga3 + harga4  # pada bagian ini kita hanya memperbaiki typo,atau menyamakan dengan variabel yang telah kita buat diatas\n",
    "\n",
    "# menampilkan item dan harga\n",
    "# sama memperbaiki typo dan juga menambahkan tanda kutip pada = Rp karena termasuk kedalam string\n",
    "# tidak lupa tambahkan koma sebagai pemisah\n",
    "print(item1, \" = Rp\", harga1)\n",
    "print(item2, \" = Rp\", harga2)\n",
    "print(item3, \" = Rp\", harga3)\n",
    "print(item4, \" = Rp\", harga4)\n",
    "\n",
    "# Print total\n",
    "print(\" \")\n",
    "print(\"Total = Rp\",+ total) # menambahkan koma sebagi pemisah\n",
    "\n",
    "# Write to file\n",
    "with open('Kuitansi.txt', 'w') as writefile:  # memperbaiki kesalahan ketik dalam mode dan ditambahkan sebagai kata kunci\n",
    "    # Write welcome message\n",
    "    writefile.write(\"Selamat Datang di Toko Maju Jaya\\n\")\n",
    "    writefile.write(\"\\n\")\n",
    "    # Write date and time\n",
    "    writefile.write(\"Kuitansi - 4 September 2023\\n\")\n",
    "    writefile.write(\"\\n\")\n",
    "    # Write items with prices\n",
    "    # Mengubah variabel harga menjadi string menggunakan str() saat menulis ke file.\n",
    "    # jangan lupa tambahkan +\n",
    "    writefile.write(item1 + \" = Rp \" + str(harga1) + \"\\n\")\n",
    "    writefile.write(item2 + \" = Rp \" + str(harga2) + \"\\n\")\n",
    "    writefile.write(item3 + \" = Rp \" + str(harga3) + \"\\n\")\n",
    "    writefile.write(item4 + \" = Rp \" + str(harga4) + \"\\n\")\n",
    "    writefile.write(\"\\n\")\n",
    "    # Write total\n",
    "    writefile.write(\"Total Belanja = \" + str(total) + \"\\n\") # menambahkan tanda tutup kurung ) dan \\n"
   ]
  }
 ],
 "metadata": {
  "kernelspec": {
   "display_name": "Python 3",
   "language": "python",
   "name": "python3"
  },
  "language_info": {
   "codemirror_mode": {
    "name": "ipython",
    "version": 3
   },
   "file_extension": ".py",
   "mimetype": "text/x-python",
   "name": "python",
   "nbconvert_exporter": "python",
   "pygments_lexer": "ipython3",
   "version": "3.11.9"
  }
 },
 "nbformat": 4,
 "nbformat_minor": 2
}
