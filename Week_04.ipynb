{
  "nbformat": 4,
  "nbformat_minor": 0,
  "metadata": {
    "colab": {
      "provenance": [],
      "authorship_tag": "ABX9TyPsPncV5tHRymgg7wcdyTgT",
      "include_colab_link": true
    },
    "kernelspec": {
      "name": "python3",
      "display_name": "Python 3"
    },
    "language_info": {
      "name": "python"
    }
  },
  "cells": [
    {
      "cell_type": "markdown",
      "metadata": {
        "id": "view-in-github",
        "colab_type": "text"
      },
      "source": [
        "<a href=\"https://colab.research.google.com/github/assepwahid5/praktikum_1/blob/master/Week_04.ipynb\" target=\"_parent\"><img src=\"https://colab.research.google.com/assets/colab-badge.svg\" alt=\"Open In Colab\"/></a>"
      ]
    },
    {
      "cell_type": "code",
      "execution_count": null,
      "metadata": {
        "colab": {
          "base_uri": "https://localhost:8080/"
        },
        "id": "oIMWPtQEnh4R",
        "outputId": "ec909524-8fbd-42ff-beca-7532eceac066"
      },
      "outputs": [
        {
          "output_type": "execute_result",
          "data": {
            "text/plain": [
              "False"
            ]
          },
          "metadata": {},
          "execution_count": 1
        }
      ],
      "source": [
        "a = 6\n",
        "a == 7"
      ]
    },
    {
      "cell_type": "code",
      "source": [
        "a = 7\n",
        "a != 7"
      ],
      "metadata": {
        "colab": {
          "base_uri": "https://localhost:8080/"
        },
        "id": "9S8ZgA6IeN_Z",
        "outputId": "b49607e3-5de1-4bd8-d2a1-4f5fb1ddad6f"
      },
      "execution_count": 2,
      "outputs": [
        {
          "output_type": "execute_result",
          "data": {
            "text/plain": [
              "False"
            ]
          },
          "metadata": {},
          "execution_count": 2
        }
      ]
    },
    {
      "cell_type": "code",
      "source": [
        "a = 9\n",
        "a == 4 + 5"
      ],
      "metadata": {
        "colab": {
          "base_uri": "https://localhost:8080/"
        },
        "id": "7EaUTtkUnoRg",
        "outputId": "c0ec192b-eaac-492a-9ac4-57a674051eb7"
      },
      "execution_count": null,
      "outputs": [
        {
          "output_type": "execute_result",
          "data": {
            "text/plain": [
              "True"
            ]
          },
          "metadata": {},
          "execution_count": 2
        }
      ]
    },
    {
      "cell_type": "code",
      "source": [
        "x = 7\n",
        "y = 12\n",
        "z = 5\n",
        "\n",
        "if x > 5 and y < 15:\n",
        "    print(\"x lebih besar dari 5 dan y lebih kecil dari 15\")\n",
        "\n",
        "if x < 10 or z > 10:\n",
        "    print(\"Salah satu dari x lebih kecil dari 10 atau z lebih besar dari 10\")\n",
        "\n",
        "if not z == 5:\n",
        "    print(\"z tidak sama dengan 5\")\n",
        "else:\n",
        "    print(\"z sama dengan 5\")\n"
      ],
      "metadata": {
        "colab": {
          "base_uri": "https://localhost:8080/"
        },
        "id": "kiE-nDNCt4nQ",
        "outputId": "9861bb90-53b8-4025-e5fc-7eb3f1c9eedc"
      },
      "execution_count": 3,
      "outputs": [
        {
          "output_type": "stream",
          "name": "stdout",
          "text": [
            "x lebih besar dari 5 dan y lebih kecil dari 15\n",
            "Salah satu dari x lebih kecil dari 10 atau z lebih besar dari 10\n",
            "z sama dengan 5\n"
          ]
        }
      ]
    },
    {
      "cell_type": "code",
      "source": [
        "x = 3\n",
        "if x > 5:\n",
        "    print(\"x lebih besar dari 5\")\n",
        "else:\n",
        "    print(\"x tidak lebih besar dari 5\")\n"
      ],
      "metadata": {
        "colab": {
          "base_uri": "https://localhost:8080/"
        },
        "id": "GAFbA6qxxFzM",
        "outputId": "0ba6ff93-6e17-413a-db2b-161c1bcb6a65"
      },
      "execution_count": 4,
      "outputs": [
        {
          "output_type": "stream",
          "name": "stdout",
          "text": [
            "x tidak lebih besar dari 5\n"
          ]
        }
      ]
    },
    {
      "cell_type": "code",
      "source": [
        "# Mulai\n",
        "\n",
        "umur = input (\"Masukan Umur = \")\n",
        "if int (umur) >= 17 :\n",
        "  print (\"Boleh Membuat SIM\")\n",
        "else :\n",
        "  print (\"Tidak Boleh Membuat SIM\")\n",
        "\n",
        "# Selesai"
      ],
      "metadata": {
        "colab": {
          "base_uri": "https://localhost:8080/"
        },
        "id": "US_SLXYRnvNa",
        "outputId": "c30a02ff-21e3-4633-b8a1-ca4354972867"
      },
      "execution_count": 1,
      "outputs": [
        {
          "output_type": "stream",
          "name": "stdout",
          "text": [
            "Masukan Umur = 19\n",
            "Boleh Membuat SIM\n"
          ]
        }
      ]
    },
    {
      "cell_type": "code",
      "source": [
        "# Mulai\n",
        "\n",
        "nilai = input (\"Masukan Nilai = \")\n",
        "if int (nilai) >= 90 :\n",
        "  Grade = \"A\"\n",
        "elif int (nilai) >= 80 :\n",
        "  Grade = \"B+\"\n",
        "elif int (nilai) >= 70 :\n",
        "  Grade = \"B\"\n",
        "elif int (nilai) >= 60 :\n",
        "  Grade = \"C+\"\n",
        "elif int (nilai) >= 50 :\n",
        "  Grade = \"C\"\n",
        "elif int (nilai) >= 40 :\n",
        "  Grade = \"D\"\n",
        "else :\n",
        "  Grade = \"E\"\n",
        "\n",
        "print (Grade)\n",
        "\n",
        "# Selesai"
      ],
      "metadata": {
        "colab": {
          "base_uri": "https://localhost:8080/"
        },
        "id": "ZXl2puK-n25N",
        "outputId": "e89752cb-7821-4810-904c-2852c9e45a4e"
      },
      "execution_count": 1,
      "outputs": [
        {
          "output_type": "stream",
          "name": "stdout",
          "text": [
            "Masukan Nilai = 99\n",
            "A\n"
          ]
        }
      ]
    },
    {
      "cell_type": "code",
      "source": [
        "nilai = input (\"Masukan Nilai = \")\n",
        "if 80.00 <= float (nilai) <= 100 :\n",
        "  Grade = \"A\"\n",
        "elif 77.50 <= float (nilai) <= 79.99 :\n",
        "  Grade = \"A-\"\n",
        "elif 75.00 <= float (nilai) <= 77.49 :\n",
        "  Grade = \"A/B\"\n",
        "elif 72.50 <= float (nilai) <= 74.99 :\n",
        "  Grade = \"B+\"\n",
        "elif 70.00 <= float (nilai) <= 72.49 :\n",
        "  Grade = \"B\"\n",
        "elif 67.50 <= float (nilai) <= 69.99 :\n",
        "  Grade = \"B-\"\n",
        "elif 65.00 <= float (nilai) <= 67.49 :\n",
        "  Grade = \"B/C\"\n",
        "elif 62.50 <= float (nilai) <= 64.99 :\n",
        "  Grade = \"C+\"\n",
        "elif 60.00 <= float (nilai) <= 62.49 :\n",
        "  Grade = \"C\"\n",
        "elif 55.00 <= float (nilai) <= 59.99 :\n",
        "  Grade = \"C-\"\n",
        "elif 50.00 <= float (nilai) <= 54.99 :\n",
        "  Grade = \"C/D\"\n",
        "elif 45.00 <= float (nilai) <= 49.99 :\n",
        "  Grade = \"D+\"\n",
        "elif 40.00 <= float (nilai) <= 44.99 :\n",
        "  Grade = \"D\"\n",
        "elif float (nilai) < 40.00 :\n",
        "  Grade = \"E\"\n",
        "else :\n",
        "  Grade = \"Tidak Terdefinisi\"\n",
        "print (\"Grade =\",Grade)"
      ],
      "metadata": {
        "colab": {
          "base_uri": "https://localhost:8080/"
        },
        "id": "JWH_lYA9n_YJ",
        "outputId": "25880785-38a9-4930-ce71-621b5984b945"
      },
      "execution_count": null,
      "outputs": [
        {
          "output_type": "stream",
          "name": "stdout",
          "text": [
            "Masukan Nilai = 101\n",
            "Grade = Tidak Terdefinisi\n"
          ]
        }
      ]
    },
    {
      "cell_type": "code",
      "source": [
        "nilai = input (\"Masukan Nilai = \")\n",
        "if 80.00 <= float (nilai) <= 100 :\n",
        "  Grade = \"A\"\n",
        "elif 77.50 <= float (nilai) <= 79.99 :\n",
        "  Grade = \"A-\"\n",
        "elif 75.00 <= float (nilai) <= 77.49 :\n",
        "  Grade = \"A/B\"\n",
        "elif 72.50 <= float (nilai) <= 74.99 :\n",
        "  Grade = \"B+\"\n",
        "elif 70.00 <= float (nilai) <= 72.49 :\n",
        "  Grade = \"B\"\n",
        "elif 67.50 <= float (nilai) <= 69.99 :\n",
        "  Grade = \"B-\"\n",
        "elif 65.00 <= float (nilai) <= 67.49 :\n",
        "  Grade = \"B/C\"\n",
        "elif 62.50 <= float (nilai) <= 64.99 :\n",
        "  Grade = \"C+\"\n",
        "elif 60.00 <= float (nilai) <= 62.49 :\n",
        "  Grade = \"C\"\n",
        "elif 55.00 <= float (nilai) <= 59.99 :\n",
        "  Grade = \"C-\"\n",
        "elif 50.00 <= float (nilai) <= 54.99 :\n",
        "  Grade = \"C/D\"\n",
        "elif 45.00 <= float (nilai) <= 49.99 :\n",
        "  Grade = \"D+\"\n",
        "elif 40.00 <= float (nilai) <= 44.99 :\n",
        "  Grade = \"D\"\n",
        "else :\n",
        "   Grade = \"E\"\n",
        "print (\"Grade =\",Grade)"
      ],
      "metadata": {
        "colab": {
          "base_uri": "https://localhost:8080/"
        },
        "id": "IhRq_amBZxtL",
        "outputId": "e8a24944-55de-4d3f-df7a-c5e88b96159a"
      },
      "execution_count": 2,
      "outputs": [
        {
          "output_type": "stream",
          "name": "stdout",
          "text": [
            "Masukan Nilai = 111\n",
            "Grade = E\n"
          ]
        }
      ]
    },
    {
      "cell_type": "code",
      "source": [
        "nilai = input (\"Masukan Nilai = \")\n",
        "if 80.00 <= float (nilai) <= 100 :\n",
        "  Grade = \"A\"\n",
        "elif 77.50 <= float (nilai) <= 79.99 :\n",
        "  Grade = \"A-\"\n",
        "elif 75.00 <= float (nilai) <= 77.49 :\n",
        "  Grade = \"A/B\"\n",
        "elif 72.50 <= float (nilai) <= 74.99 :\n",
        "  Grade = \"B+\"\n",
        "elif 70.00 <= float (nilai) <= 72.49 :\n",
        "  Grade = \"B\"\n",
        "elif 67.50 <= float (nilai) <= 69.99 :\n",
        "  Grade = \"B-\"\n",
        "elif 65.00 <= float (nilai) <= 67.49 :\n",
        "  Grade = \"B/C\"\n",
        "elif 62.50 <= float (nilai) <= 64.99 :\n",
        "  Grade = \"C+\"\n",
        "elif 60.00 <= float (nilai) <= 62.49 :\n",
        "  Grade = \"C\"\n",
        "elif 55.00 <= float (nilai) <= 59.99 :\n",
        "  Grade = \"C-\"\n",
        "elif 50.00 <= float (nilai) <= 54.99 :\n",
        "  Grade = \"C/D\"\n",
        "elif 45.00 <= float (nilai) <= 49.99 :\n",
        "  Grade = \"D+\"\n",
        "elif 40.00 <= float (nilai) <= 44.99 :\n",
        "  Grade = \"D\"\n",
        "elif float (nilai) < 40.00 :\n",
        "  Grade = \"E\"\n",
        "print (\"Grade =\",Grade)"
      ],
      "metadata": {
        "colab": {
          "base_uri": "https://localhost:8080/"
        },
        "id": "HRNg_OzWa39w",
        "outputId": "4774a0b6-8201-4dc9-bc61-a1f7fc5265a4"
      },
      "execution_count": 4,
      "outputs": [
        {
          "output_type": "stream",
          "name": "stdout",
          "text": [
            "Masukan Nilai = 121\n",
            "Grade = E\n"
          ]
        }
      ]
    }
  ]
}