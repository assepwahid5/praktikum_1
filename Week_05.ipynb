{
  "nbformat": 4,
  "nbformat_minor": 0,
  "metadata": {
    "colab": {
      "provenance": [],
      "authorship_tag": "ABX9TyOAUeBOddZYhW3YsH0rBWeG",
      "include_colab_link": true
    },
    "kernelspec": {
      "name": "python3",
      "display_name": "Python 3"
    },
    "language_info": {
      "name": "python"
    }
  },
  "cells": [
    {
      "cell_type": "markdown",
      "metadata": {
        "id": "view-in-github",
        "colab_type": "text"
      },
      "source": [
        "<a href=\"https://colab.research.google.com/github/assepwahid5/praktikum_1/blob/master/Week_05.ipynb\" target=\"_parent\"><img src=\"https://colab.research.google.com/assets/colab-badge.svg\" alt=\"Open In Colab\"/></a>"
      ]
    },
    {
      "cell_type": "code",
      "execution_count": 12,
      "metadata": {
        "colab": {
          "base_uri": "https://localhost:8080/"
        },
        "id": "h4dAT-eAU3zA",
        "outputId": "c6080a6a-0e4e-4f57-f55f-b2e05446a71b"
      },
      "outputs": [
        {
          "output_type": "stream",
          "name": "stdout",
          "text": [
            "Masukan Tahun = 2000\n",
            "2000 Merupakan Tahun Kabisat\n"
          ]
        }
      ],
      "source": [
        "t = int (input(\"Masukan Tahun = \"))\n",
        "if (t % 4 == 0 and tahun % 100 != 0) or (t % 400 == 0):\n",
        "  print(f'{t} Merupakan Tahun Kabisat')\n",
        "else :\n",
        "  print(f'{t} Bukan Tahun Kabisat')"
      ]
    },
    {
      "cell_type": "code",
      "source": [
        "a = int(input(\"Masukan Angka Pertama = \"))\n",
        "b = int(input(\"Masukan Angka Kedua = \"))\n",
        "c = int(input(\"Masukan Angka Ketiga = \"))\n",
        "if b < a > c :\n",
        "  print(f'{a} Merupakan Angka Terbesar')\n",
        "elif a < b > c :\n",
        "  print(f'{b} Merupakan Angka Terbesar')\n",
        "else :\n",
        "     print(f'{c} Merupakan Angka Terbesar')"
      ],
      "metadata": {
        "colab": {
          "base_uri": "https://localhost:8080/"
        },
        "id": "aj1ytxClh_5u",
        "outputId": "e20b4dd4-0647-4c98-9596-05e86f295ea3"
      },
      "execution_count": 34,
      "outputs": [
        {
          "output_type": "stream",
          "name": "stdout",
          "text": [
            "Masukan Angka Pertama = 100\n",
            "Masukan Angka Kedua = 123\n",
            "Masukan Angka Ketiga = 1\n",
            "123 Merupakan Angka Terbesar\n"
          ]
        }
      ]
    },
    {
      "cell_type": "code",
      "source": [
        "k = input(\"Masukan Jenis Konsumen,Member/Nonmember : \")\n",
        "tb = int(input(\"Masukan Total Belanja : \"))\n",
        "\n",
        "if (tb > 100000 and tb <= 200000 and k=='Member') :\n",
        "  diskon = (tb * 0.03) + (tb * 0.02)\n",
        "elif (tb > 200000 and k=='Member') :\n",
        "  diskon = (tb * 0.04) + (tb * 0.02)\n",
        "elif tb > 100000 and tb <= 200000:\n",
        "  diskon = tb * 0.03\n",
        "elif tb > 200000:\n",
        "  diskon = tb * 0.04\n",
        "\n",
        "\n",
        "total = tb - diskon\n",
        "\n",
        "print(\"total yang harus dibayarkan : \",+ total)"
      ],
      "metadata": {
        "colab": {
          "base_uri": "https://localhost:8080/"
        },
        "id": "L-0i2uZXrZ1c",
        "outputId": "6ab9a116-b406-44bb-a034-2be769671a0f"
      },
      "execution_count": 24,
      "outputs": [
        {
          "output_type": "stream",
          "name": "stdout",
          "text": [
            "Masukan Jenis Konsumen,Member/Nonmember : Nonmember\n",
            "Masukan Total Belanja : 220000\n",
            "total yang harus dibayarkan :  211200.0\n"
          ]
        }
      ]
    },
    {
      "cell_type": "code",
      "source": [
        "k = input(\"Masukan Jenis Konsumen,Member/Nonmember : \")\n",
        "tb = int(input(\"Masukan Total Belanja : \"))\n",
        "\n",
        "if  k=='Member':\n",
        "  if tb > 200000 :\n",
        "    diskon = (tb * 0.04) + (tb * 0.02)\n",
        "  elif tb > 100000 :\n",
        "    diskon = (tb * 0.03) + (tb * 0.02)\n",
        "elif k=='Nonmember' :\n",
        "  if tb > 200000 :\n",
        "    diskon = tb * 0.04\n",
        "  elif tb > 100000 :\n",
        "    diskon = tb * 0.03\n",
        "\n",
        "total = tb - diskon\n",
        "\n",
        "print(\"total yang harus dibayarkan : \",+ total)"
      ],
      "metadata": {
        "colab": {
          "base_uri": "https://localhost:8080/"
        },
        "id": "3410L0hofZJE",
        "outputId": "870f90cd-5b91-4531-b9a2-384608c782bb"
      },
      "execution_count": 44,
      "outputs": [
        {
          "output_type": "stream",
          "name": "stdout",
          "text": [
            "Masukan Jenis Konsumen,Member/Nonmember : Nonmember\n",
            "Masukan Total Belanja : 120000\n",
            "total yang harus dibayarkan :  116400.0\n"
          ]
        }
      ]
    },
    {
      "cell_type": "code",
      "source": [
        "# username\n",
        "u = str(input(\"Masukan Username : \"))\n",
        "e = str(input(\"Masukan Email : \"))\n",
        "p = str(input(\"Masukan Password : \"))\n",
        "if not u:\n",
        "    return \"Username tidak boleh kosong\"\n",
        "if \"@\" not in e:\n",
        "    return \"Email harus mengandung '@'\"\n",
        "if len(p) <= 8:\n",
        "    return \"Password harus lebih dari 8 karakter\"\n",
        "else:\n",
        "  print(u + e + p)\n"
      ],
      "metadata": {
        "colab": {
          "base_uri": "https://localhost:8080/",
          "height": 165
        },
        "id": "Ld_hLbJ4ijgE",
        "outputId": "b100ffd2-ff0d-48cf-dfa6-2fa7b89cfc61"
      },
      "execution_count": 35,
      "outputs": [
        {
          "name": "stdout",
          "output_type": "stream",
          "text": [
            "Masukan Username : \n",
            "Masukan Email : \n",
            "Masukan Password : \n"
          ]
        },
        {
          "output_type": "error",
          "ename": "SyntaxError",
          "evalue": "'return' outside function (<ipython-input-35-d7f61a1acf8b>, line 6)",
          "traceback": [
            "\u001b[0;36m  File \u001b[0;32m\"<ipython-input-35-d7f61a1acf8b>\"\u001b[0;36m, line \u001b[0;32m6\u001b[0m\n\u001b[0;31m    return \"Username tidak boleh kosong\"\u001b[0m\n\u001b[0m    ^\u001b[0m\n\u001b[0;31mSyntaxError\u001b[0m\u001b[0;31m:\u001b[0m 'return' outside function\n"
          ]
        }
      ]
    },
    {
      "cell_type": "code",
      "source": [
        "# username\n",
        "u = str(input(\"Masukan Username : \"))\n",
        "e = str(input(\"Masukan Email : \"))\n",
        "p = str(input(\"Masukan Password : \"))\n",
        "if not u:\n",
        "    print(\"Username tidak boleh kosong\")\n",
        "if \"@\" not in e:\n",
        "    print(\"Email harus mengandung '@'\")\n",
        "if len(p) <= 8:\n",
        "    print(\"Password harus lebih dari 8 karakter\")\n",
        "else:\n",
        "  print(u + e + p)"
      ],
      "metadata": {
        "colab": {
          "base_uri": "https://localhost:8080/",
          "height": 110
        },
        "id": "HhoEar7_n9ze",
        "outputId": "a56b155d-5697-418d-8752-7545bd4b0f3e"
      },
      "execution_count": 38,
      "outputs": [
        {
          "output_type": "error",
          "ename": "IndentationError",
          "evalue": "expected an indented block after function definition on line 2 (<ipython-input-38-d0e3239bf3cb>, line 3)",
          "traceback": [
            "\u001b[0;36m  File \u001b[0;32m\"<ipython-input-38-d0e3239bf3cb>\"\u001b[0;36m, line \u001b[0;32m3\u001b[0m\n\u001b[0;31m    u = str(input(\"Masukan Username : \"))\u001b[0m\n\u001b[0m    ^\u001b[0m\n\u001b[0;31mIndentationError\u001b[0m\u001b[0;31m:\u001b[0m expected an indented block after function definition on line 2\n"
          ]
        }
      ]
    },
    {
      "cell_type": "code",
      "source": [
        "while True:\n",
        "    # Meminta input dari user\n",
        "    username = input(\"Masukkan username: \")\n",
        "    email = input(\"Masukkan email: \")\n",
        "    password = input(\"Masukkan password: \")\n",
        "\n",
        "    # Validasi username\n",
        "    if not username:\n",
        "        print(\"Gagal: Username tidak boleh kosong. Silakan coba lagi.\")\n",
        "        continue  # Kembali ke awal loop untuk meminta input ulang\n",
        "\n",
        "    # Validasi email\n",
        "    if \"@\" not in email:\n",
        "        print(\"Gagal: Email harus mengandung '@'. Silakan coba lagi.\")\n",
        "        continue  # Kembali ke awal loop untuk meminta input ulang\n",
        "\n",
        "    # Validasi password\n",
        "    if len(password) <= 8:\n",
        "        print(\"Gagal: Password harus lebih dari 8 karakter. Silakan coba lagi.\")\n",
        "        continue  # Kembali ke awal loop untuk meminta input ulang\n",
        "\n",
        "    # Jika semua validasi lolos, keluar dari loop\n",
        "    print(f\"User baru berhasil dibuat!\\nUsername: {username}\\nEmail: {email}\")\n",
        "    break"
      ],
      "metadata": {
        "colab": {
          "base_uri": "https://localhost:8080/",
          "height": 445
        },
        "id": "AmMcf4Bmqz85",
        "outputId": "5cbfa829-b6b2-44da-84bc-4cdc6ee3a228"
      },
      "execution_count": 41,
      "outputs": [
        {
          "output_type": "stream",
          "name": "stdout",
          "text": [
            "Masukkan username: \n",
            "Masukkan email: \n",
            "Masukkan password: \n",
            "Gagal: Username tidak boleh kosong. Silakan coba lagi.\n"
          ]
        },
        {
          "output_type": "error",
          "ename": "KeyboardInterrupt",
          "evalue": "Interrupted by user",
          "traceback": [
            "\u001b[0;31m---------------------------------------------------------------------------\u001b[0m",
            "\u001b[0;31mKeyboardInterrupt\u001b[0m                         Traceback (most recent call last)",
            "\u001b[0;32m<ipython-input-41-56336d607cfb>\u001b[0m in \u001b[0;36m<cell line: 1>\u001b[0;34m()\u001b[0m\n\u001b[1;32m      1\u001b[0m \u001b[0;32mwhile\u001b[0m \u001b[0;32mTrue\u001b[0m\u001b[0;34m:\u001b[0m\u001b[0;34m\u001b[0m\u001b[0;34m\u001b[0m\u001b[0m\n\u001b[1;32m      2\u001b[0m     \u001b[0;31m# Meminta input dari user\u001b[0m\u001b[0;34m\u001b[0m\u001b[0;34m\u001b[0m\u001b[0m\n\u001b[0;32m----> 3\u001b[0;31m     \u001b[0musername\u001b[0m \u001b[0;34m=\u001b[0m \u001b[0minput\u001b[0m\u001b[0;34m(\u001b[0m\u001b[0;34m\"Masukkan username: \"\u001b[0m\u001b[0;34m)\u001b[0m\u001b[0;34m\u001b[0m\u001b[0;34m\u001b[0m\u001b[0m\n\u001b[0m\u001b[1;32m      4\u001b[0m     \u001b[0memail\u001b[0m \u001b[0;34m=\u001b[0m \u001b[0minput\u001b[0m\u001b[0;34m(\u001b[0m\u001b[0;34m\"Masukkan email: \"\u001b[0m\u001b[0;34m)\u001b[0m\u001b[0;34m\u001b[0m\u001b[0;34m\u001b[0m\u001b[0m\n\u001b[1;32m      5\u001b[0m     \u001b[0mpassword\u001b[0m \u001b[0;34m=\u001b[0m \u001b[0minput\u001b[0m\u001b[0;34m(\u001b[0m\u001b[0;34m\"Masukkan password: \"\u001b[0m\u001b[0;34m)\u001b[0m\u001b[0;34m\u001b[0m\u001b[0;34m\u001b[0m\u001b[0m\n",
            "\u001b[0;32m/usr/local/lib/python3.10/dist-packages/ipykernel/kernelbase.py\u001b[0m in \u001b[0;36mraw_input\u001b[0;34m(self, prompt)\u001b[0m\n\u001b[1;32m    849\u001b[0m                 \u001b[0;34m\"raw_input was called, but this frontend does not support input requests.\"\u001b[0m\u001b[0;34m\u001b[0m\u001b[0;34m\u001b[0m\u001b[0m\n\u001b[1;32m    850\u001b[0m             )\n\u001b[0;32m--> 851\u001b[0;31m         return self._input_request(str(prompt),\n\u001b[0m\u001b[1;32m    852\u001b[0m             \u001b[0mself\u001b[0m\u001b[0;34m.\u001b[0m\u001b[0m_parent_ident\u001b[0m\u001b[0;34m,\u001b[0m\u001b[0;34m\u001b[0m\u001b[0;34m\u001b[0m\u001b[0m\n\u001b[1;32m    853\u001b[0m             \u001b[0mself\u001b[0m\u001b[0;34m.\u001b[0m\u001b[0m_parent_header\u001b[0m\u001b[0;34m,\u001b[0m\u001b[0;34m\u001b[0m\u001b[0;34m\u001b[0m\u001b[0m\n",
            "\u001b[0;32m/usr/local/lib/python3.10/dist-packages/ipykernel/kernelbase.py\u001b[0m in \u001b[0;36m_input_request\u001b[0;34m(self, prompt, ident, parent, password)\u001b[0m\n\u001b[1;32m    893\u001b[0m             \u001b[0;32mexcept\u001b[0m \u001b[0mKeyboardInterrupt\u001b[0m\u001b[0;34m:\u001b[0m\u001b[0;34m\u001b[0m\u001b[0;34m\u001b[0m\u001b[0m\n\u001b[1;32m    894\u001b[0m                 \u001b[0;31m# re-raise KeyboardInterrupt, to truncate traceback\u001b[0m\u001b[0;34m\u001b[0m\u001b[0;34m\u001b[0m\u001b[0m\n\u001b[0;32m--> 895\u001b[0;31m                 \u001b[0;32mraise\u001b[0m \u001b[0mKeyboardInterrupt\u001b[0m\u001b[0;34m(\u001b[0m\u001b[0;34m\"Interrupted by user\"\u001b[0m\u001b[0;34m)\u001b[0m \u001b[0;32mfrom\u001b[0m \u001b[0;32mNone\u001b[0m\u001b[0;34m\u001b[0m\u001b[0;34m\u001b[0m\u001b[0m\n\u001b[0m\u001b[1;32m    896\u001b[0m             \u001b[0;32mexcept\u001b[0m \u001b[0mException\u001b[0m \u001b[0;32mas\u001b[0m \u001b[0me\u001b[0m\u001b[0;34m:\u001b[0m\u001b[0;34m\u001b[0m\u001b[0;34m\u001b[0m\u001b[0m\n\u001b[1;32m    897\u001b[0m                 \u001b[0mself\u001b[0m\u001b[0;34m.\u001b[0m\u001b[0mlog\u001b[0m\u001b[0;34m.\u001b[0m\u001b[0mwarning\u001b[0m\u001b[0;34m(\u001b[0m\u001b[0;34m\"Invalid Message:\"\u001b[0m\u001b[0;34m,\u001b[0m \u001b[0mexc_info\u001b[0m\u001b[0;34m=\u001b[0m\u001b[0;32mTrue\u001b[0m\u001b[0;34m)\u001b[0m\u001b[0;34m\u001b[0m\u001b[0;34m\u001b[0m\u001b[0m\n",
            "\u001b[0;31mKeyboardInterrupt\u001b[0m: Interrupted by user"
          ]
        }
      ]
    }
  ]
}