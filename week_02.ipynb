{
  "nbformat": 4,
  "nbformat_minor": 0,
  "metadata": {
    "colab": {
      "provenance": [],
      "authorship_tag": "ABX9TyNAWhBW6fvzc6DXmVVJ5K/d",
      "include_colab_link": true
    },
    "kernelspec": {
      "name": "python3",
      "display_name": "Python 3"
    },
    "language_info": {
      "name": "python"
    }
  },
  "cells": [
    {
      "cell_type": "markdown",
      "metadata": {
        "id": "view-in-github",
        "colab_type": "text"
      },
      "source": [
        "<a href=\"https://colab.research.google.com/github/assepwahid5/praktikum_1/blob/master/week_02.ipynb\" target=\"_parent\"><img src=\"https://colab.research.google.com/assets/colab-badge.svg\" alt=\"Open In Colab\"/></a>"
      ]
    },
    {
      "cell_type": "code",
      "execution_count": null,
      "metadata": {
        "colab": {
          "base_uri": "https://localhost:8080/"
        },
        "id": "HnwPuGudWIEl",
        "outputId": "ffd4532c-d83a-454b-ce98-adcda2dea5db"
      },
      "outputs": [
        {
          "output_type": "execute_result",
          "data": {
            "text/plain": [
              "123"
            ]
          },
          "metadata": {},
          "execution_count": 10
        }
      ],
      "source": [
        "# integer\n",
        "\n",
        "11\n",
        "type(112)\n",
        "123"
      ]
    },
    {
      "cell_type": "code",
      "source": [
        "\n",
        "# float\n",
        "100.90\n",
        "type (111100.101)\n",
        "\n",
        "import sys\n",
        "sys.float_info"
      ],
      "metadata": {
        "colab": {
          "base_uri": "https://localhost:8080/"
        },
        "id": "9lvk-CgzWkaS",
        "outputId": "f30a0793-e6f1-4b6c-8d5a-a8bfd5264b38"
      },
      "execution_count": null,
      "outputs": [
        {
          "output_type": "execute_result",
          "data": {
            "text/plain": [
              "sys.float_info(max=1.7976931348623157e+308, max_exp=1024, max_10_exp=308, min=2.2250738585072014e-308, min_exp=-1021, min_10_exp=-307, dig=15, mant_dig=53, epsilon=2.220446049250313e-16, radix=2, rounds=1)"
            ]
          },
          "metadata": {},
          "execution_count": 19
        }
      ]
    },
    {
      "cell_type": "code",
      "source": [
        "# string\n",
        "\"berikut merupakan tipe data string\"\n",
        "type(\"ini data string\")"
      ],
      "metadata": {
        "colab": {
          "base_uri": "https://localhost:8080/"
        },
        "id": "58H0r0c9WmnY",
        "outputId": "edd65bfe-0ab0-4079-cece-95c5b7dc9175"
      },
      "execution_count": null,
      "outputs": [
        {
          "output_type": "execute_result",
          "data": {
            "text/plain": [
              "str"
            ]
          },
          "metadata": {},
          "execution_count": 18
        }
      ]
    },
    {
      "cell_type": "code",
      "source": [
        "\n",
        "y = (3*8)*24 / 25\n",
        "y"
      ],
      "metadata": {
        "colab": {
          "base_uri": "https://localhost:8080/"
        },
        "id": "8IiJEfNiF0LK",
        "outputId": "de03cac7-fb62-40b6-f900-c4087e0c0a16"
      },
      "execution_count": null,
      "outputs": [
        {
          "output_type": "execute_result",
          "data": {
            "text/plain": [
              "23.04"
            ]
          },
          "metadata": {},
          "execution_count": 10
        }
      ]
    },
    {
      "cell_type": "code",
      "source": [
        "\n",
        "y = 3**8\n",
        "y"
      ],
      "metadata": {
        "colab": {
          "base_uri": "https://localhost:8080/"
        },
        "outputId": "be7f6605-94f7-4bd0-8edc-fc13ecdab46e",
        "id": "WbOGEIQVI2GF"
      },
      "execution_count": null,
      "outputs": [
        {
          "output_type": "execute_result",
          "data": {
            "text/plain": [
              "6561"
            ]
          },
          "metadata": {},
          "execution_count": 1
        }
      ]
    },
    {
      "cell_type": "code",
      "source": [
        "x = 99//3\n",
        "x"
      ],
      "metadata": {
        "colab": {
          "base_uri": "https://localhost:8080/"
        },
        "id": "_3PRinzwDHwq",
        "outputId": "573cdc20-eaa3-4146-8cdc-1af5e777c23e"
      },
      "execution_count": null,
      "outputs": [
        {
          "output_type": "execute_result",
          "data": {
            "text/plain": [
              "33"
            ]
          },
          "metadata": {},
          "execution_count": 4
        }
      ]
    },
    {
      "cell_type": "code",
      "source": [
        "c= 100 -- 120\n",
        "c"
      ],
      "metadata": {
        "colab": {
          "base_uri": "https://localhost:8080/"
        },
        "id": "lCylQZGZDWme",
        "outputId": "8f282aad-f2f4-4697-99a2-64915cb305e8"
      },
      "execution_count": null,
      "outputs": [
        {
          "output_type": "execute_result",
          "data": {
            "text/plain": [
              "220"
            ]
          },
          "metadata": {},
          "execution_count": 8
        }
      ]
    },
    {
      "cell_type": "code",
      "source": [
        "panjang = 20.5\n",
        "lebar = 25\n",
        "tinggi = 10\n",
        "\n",
        "keliling = 2 * (panjang + lebar)\n",
        "luas = panjang * lebar\n",
        "volume = panjang * lebar * tinggi\n",
        "\n",
        "print(\"Panjang = \",+ panjang)\n",
        "print(\"Lebar = \" ,+ lebar)\n",
        "print(\"Tinggi =\", + tinggi)\n",
        "print(\"Keliling =\" ,+ keliling)\n",
        "print(\"Volume =\" ,+ volume)\n",
        "print(\"luas = \", + luas)"
      ],
      "metadata": {
        "colab": {
          "base_uri": "https://localhost:8080/"
        },
        "id": "LeT9veJMDtch",
        "outputId": "9da5ba18-1097-4ddf-c45b-699c6d7f4f02"
      },
      "execution_count": null,
      "outputs": [
        {
          "output_type": "stream",
          "name": "stdout",
          "text": [
            "Panjang =  20.5\n",
            "Lebar =  25\n",
            "Tinggi = 10\n",
            "Keliling = 91.0\n",
            "Volume = 5125.0\n",
            "luas =  512.5\n"
          ]
        }
      ]
    },
    {
      "cell_type": "code",
      "source": [
        "# data mahasiswa\n",
        "data = {\n",
        "    \"Shafira\": {\"Kalkulus 1\": 85, \"Metode Statistika\": 75},\n",
        "    \"Amanda\": {\"Kalkulus 1\": 80, \"Metode Statistika\": 90},\n",
        "    \"Aditya\": {\"Kalkulus 1\": 75, \"Metode Statistika\": 80},\n",
        "    \"Nedia\": {\"Kalkulus 1\": 95, \"Metode Statistika\": 80},\n",
        "    \"Widya\": {\"Kalkulus 1\": 85, \"Metode Statistika\": 85},\n",
        "    \"Hanif\": {\"Kalkulus 1\": 75, \"Metode Statistika\": 90},\n",
        "    \"Andi\": {\"Kalkulus 1\": 70, \"Metode Statistika\": 75},\n",
        "    \"Dhanar\": {\"Kalkulus 1\": 85, \"Metode Statistika\": 85},\n",
        "    \"Hikma\": {\"Kalkulus 1\": 80, \"Metode Statistika\": 75}\n",
        "}\n",
        "\n",
        "rata_rata_shafira =  (data [\"Shafira\"][\"Kalkulus 1\"] + data[\"Shafira\"][\"Metode Statistika\"])/2\n",
        "print (\"1. Rata-rata nilai Shafira pada kedua mata kuliah adalah\", + rata_rata_shafira)\n",
        "\n",
        "jumlah_nilai_hanif_dan_andi = (data [\"Hanif\"][\"Kalkulus 1\"] + data ['Hanif'][\"Metode Statistika\"] + data[\"Andi\"][\"Kalkulus 1\"]+data['Andi'][\"Metode Statistika\"])\n",
        "print (\"2. Jumlah nilai Hanif dan Andi untuk semua mata kuliah adalah\", + jumlah_nilai_hanif_dan_andi)\n",
        "\n",
        "rata_rata_kalkulus_WDHN = (data ['Widya'][\"Kalkulus 1\"] + data [\"Dhanar\"][\"Kalkulus 1\"] + data [\"Hikma\"][\"Kalkulus 1\"]+data[\"Nedia\"][\"Kalkulus 1\"])/4\n",
        "print (\"3. A. Rata-rata nilai Widya,Dhanar,Hikma dan Nedia dalam Kalkulus 1 adalah\",+ rata_rata_kalkulus_WDHN)\n",
        "\n",
        "rata_rata_MetodeStatistika_WDHN = (data [\"Widya\"][\"Metode Statistika\"] + data [\"Dhanar\"][\"Metode Statistika\"] + data[\"Hikma\"][\"Metode Statistika\"]+data [\"Nedia\"][\"Metode Statistika\"])/4\n",
        "print (\"   B. Rata-rata nilai Widya,Dhanar,Hikma, dan Nedia dalam Metode Statistika\",+ rata_rata_MetodeStatistika_WDHN)\n",
        "\n",
        "rata_semuamh_kalks1 = (data [\"Aditya\"][\"Kalkulus 1\"]+data['Amanda'][\"Kalkulus 1\"]+data[\"Andi\"][\"Kalkulus 1\"]+data[\"Dhanar\"][\"Kalkulus 1\"]+data[\"Hanif\"][\"Kalkulus 1\"]\n",
        "                       +data[\"Hikma\"][\"Kalkulus 1\"]+data[\"Nedia\"][\"Kalkulus 1\"]+data[\"Shafira\"][\"Kalkulus 1\"]+data[\"Widya\"][\"Kalkulus 1\"])/9\n",
        "print (\"4. Rata-rata nilai mata kuliah Kalkulus 1 untuk semua mahasiswa =\",+ rata_semuamh_kalks1 )\n",
        "\n",
        "rata_semuamh_Statistika = (data[\"Aditya\"][\"Metode Statistika\"]+data[\"Amanda\"][\"Metode Statistika\"]+data[\"Andi\"][\"Metode Statistika\"]+data[\"Dhanar\"][\"Metode Statistika\"]+data[\"Hanif\"][\"Metode Statistika\"]+data[\"Nedia\"][\"Metode Statistika\"]\n",
        "                           +data[\"Shafira\"][\"Metode Statistika\"]+data[\"Widya\"][\"Metode Statistika\"]+data[\"Hikma\"][\"Metode Statistika\"])/9\n",
        "print (\"5. Rata-rata nilai mata kuliah Metode Statistika untuk semua mahasiswa =\",+ rata_semuamh_Statistika)\n",
        "\n",
        "\n",
        "\n",
        "\n",
        "\n"
      ],
      "metadata": {
        "colab": {
          "base_uri": "https://localhost:8080/"
        },
        "id": "gfDThfJ_iv1j",
        "outputId": "4ee90755-989f-4bfb-cda9-2e926256a881"
      },
      "execution_count": null,
      "outputs": [
        {
          "output_type": "stream",
          "name": "stdout",
          "text": [
            "1. Rata-rata nilai Shafira pada kedua mata kuliah adalah 80.0\n",
            "2. Jumlah nilai Hanif dan Andi untuk semua mata kuliah adalah 310\n",
            "3. A. Rata-rata nilai Widya,Dhanar,Hikma dan Nedia dalam Kalkulus 1 adalah 86.25\n",
            "   B. Rata-rata nilai Widya,Dhanar,Hikma, dan Nedia dalam Metode Statistika 81.25\n",
            "4. Rata-rata nilai mata kuliah Kalkulus 1 untuk semua mahasiswa = 81.11111111111111\n",
            "5. Rata-rata nilai mata kuliah Metode Statistika untuk semua mahasiswa = 81.66666666666667\n"
          ]
        }
      ]
    },
    {
      "cell_type": "code",
      "source": [
        "beban_sehari = 8  # beban kerja 8 jam sehari\n",
        "beban_bulan = 22 # saya asumsikan bahwa selama 1 bulan dia bekerja 22 hari\n",
        "lama_bekerjatahun = 10 # lama bekerja selama 10 tahun\n",
        "tunjangan_5tahun = 0.1 # tunjangan bagi karyawan lebih 5 tahun\n",
        "gaji_jam = 30000 # gaji per jam\n",
        "lembur_perjam = 10000 # gaji lembur per jam\n",
        "lmbr = 5 # lembur 5 jam\n",
        "\n",
        "gj_agustus_minus3hr = beban_sehari * gaji_jam * beban_bulan - ((3 * beban_sehari )* gaji_jam)\n",
        "print (\"1. gaji bulan agustus jika Dwi tidak masuk kerja 3 hari adalah \",+ gj_agustus_minus3hr)\n",
        "\n",
        "tj_diterimadwi = (beban_sehari * gaji_jam * beban_bulan )* tunjangan_5tahun\n",
        "print (\"2. tunjangan yang diterima Dwi adalah\",+ tj_diterimadwi)\n",
        "\n",
        "ttl_gjdanlmbr = (beban_sehari * gaji_jam * beban_bulan) + (lmbr * lembur_perjam)\n",
        "print (\"3. total gaji dan lembur yang diterima Dwi adalah\",+ ttl_gjdanlmbr )"
      ],
      "metadata": {
        "colab": {
          "base_uri": "https://localhost:8080/"
        },
        "id": "T6r5JbU2jE9o",
        "outputId": "42aa9c0a-ab77-42ac-e280-91c8da8bfcaf"
      },
      "execution_count": null,
      "outputs": [
        {
          "output_type": "stream",
          "name": "stdout",
          "text": [
            "1. gaji bulan agustus jika Dwi tidak masuk kerja 3 hari adalah  4560000\n",
            "2. tunjangan yang diterima Dwi adalah 528000.0\n",
            "3. total gaji dan lembur yang diterima Dwi adalah 5330000\n"
          ]
        }
      ]
    }
  ]
}