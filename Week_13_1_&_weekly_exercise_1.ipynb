{
  "nbformat": 4,
  "nbformat_minor": 0,
  "metadata": {
    "colab": {
      "provenance": [],
      "authorship_tag": "ABX9TyPzd023aiDQIPMCFBbyHjIX",
      "include_colab_link": true
    },
    "kernelspec": {
      "name": "python3",
      "display_name": "Python 3"
    },
    "language_info": {
      "name": "python"
    }
  },
  "cells": [
    {
      "cell_type": "markdown",
      "metadata": {
        "id": "view-in-github",
        "colab_type": "text"
      },
      "source": [
        "<a href=\"https://colab.research.google.com/github/assepwahid5/praktikum_1/blob/master/Week_13_1_%26_weekly_exercise_1.ipynb\" target=\"_parent\"><img src=\"https://colab.research.google.com/assets/colab-badge.svg\" alt=\"Open In Colab\"/></a>"
      ]
    },
    {
      "cell_type": "code",
      "execution_count": 1,
      "metadata": {
        "colab": {
          "base_uri": "https://localhost:8080/"
        },
        "id": "-Zf3dxeSqSZx",
        "outputId": "ba82839d-8340-400b-a20a-906998c5877e"
      },
      "outputs": [
        {
          "output_type": "stream",
          "name": "stdout",
          "text": [
            "Saya Assep Wahid, berumur 20 tahun, lulus tahun 2023.\n"
          ]
        }
      ],
      "source": [
        "class Person:\n",
        "    def __init__(self, name, age):\n",
        "        self.name = name\n",
        "        self.age = age\n",
        "\n",
        "class Student(Person):\n",
        "    def __init__(self, name, age, graduation_year):\n",
        "        super().__init__(name, age)  (Person)\n",
        "        self.graduation_year = graduation_year\n",
        "\n",
        "    def greet(self):\n",
        "        print(f\"Saya {self.name}, berumur {self.age} tahun, lulus tahun {self.graduation_year}.\")\n",
        "s1 = Student(\"Assep Wahid\", 20, 2023)\n",
        "s1.greet()"
      ]
    },
    {
      "cell_type": "code",
      "source": [
        "# Kelas AlatTulis untuk merepresentasikan data alat tulis\n",
        "class AlatTulis:\n",
        "    def __init__(self, nama, stok, harga_satuan):\n",
        "        # Inisialisasi data untuk nama, stok, harga satuan, dan harga total\n",
        "        self.nama = nama\n",
        "        self.stok = stok\n",
        "        self.harga_satuan = harga_satuan\n",
        "        # Harga total otomatis dihitung dari stok x harga satuan\n",
        "        self.harga_total = stok * harga_satuan\n",
        "\n",
        "    # Method untuk mengubah nama alat tulis\n",
        "    def set_nama(self, nama):\n",
        "        self.nama = nama\n",
        "\n",
        "    # Method untuk mengubah stok barang\n",
        "    def set_stok(self, stok):\n",
        "        self.stok = stok\n",
        "        # Harga total diperbarui setiap kali stok berubah\n",
        "        self.update_harga_total()\n",
        "\n",
        "    # Method untuk mengubah harga satuan barang\n",
        "    def set_harga_satuan(self, harga_satuan):\n",
        "        self.harga_satuan = harga_satuan\n",
        "        # Harga total diperbarui setiap kali harga satuan berubah\n",
        "        self.update_harga_total()\n",
        "\n",
        "    # Method untuk mengambil nama barang\n",
        "    def get_nama(self):\n",
        "        return self.nama\n",
        "\n",
        "    # Method untuk mengambil stok barang\n",
        "    def get_stok(self):\n",
        "        return self.stok\n",
        "\n",
        "    # Method untuk mengambil harga satuan\n",
        "    def get_harga_satuan(self):\n",
        "        return self.harga_satuan\n",
        "\n",
        "    # Method untuk mengambil harga total\n",
        "    def get_harga_total(self):\n",
        "        return self.harga_total\n",
        "\n",
        "    # Method untuk menghitung ulang harga total\n",
        "    def update_harga_total(self):\n",
        "        self.harga_total = self.stok * self.harga_satuan\n",
        "\n",
        "\n",
        "# --- Implementasi Program ---\n",
        "# Buat beberapa alat tulis sesuai soal\n",
        "bolpoin = AlatTulis(\"Bolpoin\", 10, 2000)\n",
        "pensil = AlatTulis(\"Pensil\", 10, 1000)\n",
        "penghapus = AlatTulis(\"Penghapus\", 10, 500)\n",
        "\n",
        "# Tampilkan informasi setiap alat tulis\n",
        "print(\"Informasi Barang:\")\n",
        "print(\"Nama:\", bolpoin.get_nama())\n",
        "print(\"Stok:\", bolpoin.get_stok())\n",
        "print(\"Harga Satuan:\", bolpoin.get_harga_satuan())\n",
        "print(\"Harga Total:\", bolpoin.get_harga_total())\n",
        "\n",
        "print(\"\\nNama:\", pensil.get_nama())\n",
        "print(\"Stok:\", pensil.get_stok())\n",
        "print(\"Harga Satuan:\", pensil.get_harga_satuan())\n",
        "print(\"Harga Total:\", pensil.get_harga_total())\n",
        "\n",
        "print(\"\\nNama:\", penghapus.get_nama())\n",
        "print(\"Stok:\", penghapus.get_stok())\n",
        "print(\"Harga Satuan:\", penghapus.get_harga_satuan())\n",
        "print(\"Harga Total:\", penghapus.get_harga_total())"
      ],
      "metadata": {
        "colab": {
          "base_uri": "https://localhost:8080/"
        },
        "id": "OrfRixAhsXt6",
        "outputId": "9065850b-d179-43a8-c08a-7e5017b62cce"
      },
      "execution_count": 2,
      "outputs": [
        {
          "output_type": "stream",
          "name": "stdout",
          "text": [
            "Informasi Barang:\n",
            "Nama: Bolpoin\n",
            "Stok: 10\n",
            "Harga Satuan: 2000\n",
            "Harga Total: 20000\n",
            "\n",
            "Nama: Pensil\n",
            "Stok: 10\n",
            "Harga Satuan: 1000\n",
            "Harga Total: 10000\n",
            "\n",
            "Nama: Penghapus\n",
            "Stok: 10\n",
            "Harga Satuan: 500\n",
            "Harga Total: 5000\n"
          ]
        }
      ]
    }
  ]
}