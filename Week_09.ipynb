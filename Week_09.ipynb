{
  "nbformat": 4,
  "nbformat_minor": 0,
  "metadata": {
    "colab": {
      "provenance": [],
      "authorship_tag": "ABX9TyPzqQygGr/tT02dUsbc8lnA",
      "include_colab_link": true
    },
    "kernelspec": {
      "name": "python3",
      "display_name": "Python 3"
    },
    "language_info": {
      "name": "python"
    }
  },
  "cells": [
    {
      "cell_type": "markdown",
      "metadata": {
        "id": "view-in-github",
        "colab_type": "text"
      },
      "source": [
        "<a href=\"https://colab.research.google.com/github/assepwahid5/praktikum_1/blob/master/Week_09.ipynb\" target=\"_parent\"><img src=\"https://colab.research.google.com/assets/colab-badge.svg\" alt=\"Open In Colab\"/></a>"
      ]
    },
    {
      "cell_type": "code",
      "execution_count": null,
      "metadata": {
        "colab": {
          "base_uri": "https://localhost:8080/"
        },
        "id": "uDUst-ItlvnR",
        "outputId": "a7b8b064-0146-45b3-cfe8-da7d4e88fc95"
      },
      "outputs": [
        {
          "output_type": "stream",
          "name": "stdout",
          "text": [
            "['apple', 'banana', 'Orange', 'Grape']\n",
            "Grape\n"
          ]
        }
      ],
      "source": [
        "thislist = [\"apple\",\"banana\",\"cherry\",\"Grape\"]\n",
        "thislist[2] = \"Orange\"\n",
        "print(thislist)\n",
        "print(thislist[3])"
      ]
    },
    {
      "cell_type": "code",
      "source": [
        "thislist = [\"apple\",\"banana\",\"cherry\",\"Grape\",\"apple\",\"banana\",\"cherry\",\"Grape\"]\n",
        "thislist.insert(2, \"ayam\")\n",
        "thislist.append(\"rorojonggrang\")\n",
        "print(thislist[5])\n",
        "print(thislist)\n",
        "print(len(thislist))\n",
        "print(len(thislist[0]))"
      ],
      "metadata": {
        "colab": {
          "base_uri": "https://localhost:8080/"
        },
        "id": "0j7PBHKlojUB",
        "outputId": "464c0e53-419a-4289-ff63-a684d14aa52e"
      },
      "execution_count": null,
      "outputs": [
        {
          "output_type": "stream",
          "name": "stdout",
          "text": [
            "apple\n",
            "['apple', 'banana', 'ayam', 'cherry', 'Grape', 'apple', 'banana', 'cherry', 'Grape', 'rorojonggrang']\n",
            "10\n",
            "5\n"
          ]
        }
      ]
    },
    {
      "cell_type": "code",
      "source": [
        "list1 = [\"assep\",\"wahid\",\"S1 Teknologi Informasi\"]\n",
        "list2 = [13,3,2005,7,6,3]\n",
        "list3 = [True,False,True,True]\n",
        "for x in list1 :\n",
        "  print(x)\n",
        "list1.remove(\"wahid\")\n",
        "list1.pop(0) # hapus item sesuai indeks pertama\n",
        "list2.pop(int(input(\"masukan indeks berapa yang ingin dihapus = \")))\n",
        "list3.pop()# hapus item terakhir\n",
        "list1.extend(list3),list1.extend(list2)\n",
        "print(type(list1))\n",
        "print(type(list2))\n",
        "print(type(list3))\n",
        "print(type(list1[2]))\n",
        "print(type(list2[2]))\n",
        "print(type(list3[2]))\n",
        "print(list1)\n",
        "print(list2)\n",
        "print(list3)"
      ],
      "metadata": {
        "colab": {
          "base_uri": "https://localhost:8080/"
        },
        "id": "F6cgAc72piIB",
        "outputId": "5d660fb8-128f-4b6b-95d1-8e89d6396c61"
      },
      "execution_count": null,
      "outputs": [
        {
          "output_type": "stream",
          "name": "stdout",
          "text": [
            "assep\n",
            "wahid\n",
            "S1 Teknologi Informasi\n",
            "masukan indeks berapa yang ingin dihapus = 5\n",
            "<class 'list'>\n",
            "<class 'list'>\n",
            "<class 'list'>\n",
            "<class 'bool'>\n",
            "<class 'int'>\n",
            "<class 'bool'>\n",
            "['S1 Teknologi Informasi', True, False, True, 13, 3, 2005, 7, 6]\n",
            "[13, 3, 2005, 7, 6]\n",
            "[True, False, True]\n"
          ]
        }
      ]
    },
    {
      "cell_type": "code",
      "source": [
        "list1 = [\"assep\",13,3,2005,7,6,3,\"wahid\",False,True,\"S1 Teknologi Informasi\",True,True]\n",
        "list2 = [13,3,2005,7,6,3]\n",
        "list3 = [True,False,True,True]\n",
        "list1[7:10] = [\"sumpal\",\"sederhana\",1]\n",
        "print(type(list1))\n",
        "print(type(list2))\n",
        "print(type(list3))\n",
        "print(type(list1[9]))\n",
        "print(type(list2[2]))\n",
        "print(type(list3[2]))\n",
        "print(list1)\n",
        "print(list2)\n",
        "print(list3)"
      ],
      "metadata": {
        "colab": {
          "base_uri": "https://localhost:8080/"
        },
        "id": "-g8_PaZMryJg",
        "outputId": "409bcbcf-02a5-41c5-826a-e3e090703ddc"
      },
      "execution_count": null,
      "outputs": [
        {
          "output_type": "stream",
          "name": "stdout",
          "text": [
            "<class 'list'>\n",
            "<class 'list'>\n",
            "<class 'list'>\n",
            "<class 'int'>\n",
            "<class 'int'>\n",
            "<class 'bool'>\n",
            "['assep', 13, 3, 2005, 7, 6, 3, 'sumpal', 'sederhana', 1, 'S1 Teknologi Informasi', True, True]\n",
            "[13, 3, 2005, 7, 6, 3]\n",
            "[True, False, True, True]\n"
          ]
        }
      ]
    },
    {
      "cell_type": "code",
      "source": [
        "# Membuat list berisi nama teman sekelas\n",
        "teman_sekelas = [\"agus\", \"salman\", \"Andi\", \"Rina\"]\n",
        "\n",
        "# Menambahkan nama baru ke dalam list\n",
        "teman_sekelas.append(\"Dewi\")\n",
        "print(\"Setelah menambah Dewi:\", teman_sekelas)\n",
        "\n",
        "# Mengganti nama teman di indeks 1\n",
        "teman_sekelas[1] = \"Ahmad\"\n",
        "print(\"Setelah mengganti Salman menjadi Ahmad:\", teman_sekelas)\n",
        "\n",
        "# Menghapus nama teman\n",
        "teman_sekelas.remove(\"Andi\")\n",
        "print(\"Setelah menghapus Andi:\", teman_sekelas)\n",
        "\n",
        "# Mengakses elemen tertentu\n",
        "print(\"Teman pertama:\", teman_sekelas[0])"
      ],
      "metadata": {
        "colab": {
          "base_uri": "https://localhost:8080/"
        },
        "id": "97ISw2Dbd2Ts",
        "outputId": "37c5ef49-b4eb-4529-cda6-509b88350e6c"
      },
      "execution_count": null,
      "outputs": [
        {
          "output_type": "stream",
          "name": "stdout",
          "text": [
            "Setelah menambah Dewi: ['agus', 'salman', 'Andi', 'Rina', 'Dewi']\n",
            "Setelah mengganti Salman menjadi Ahmad: ['agus', 'Ahmad', 'Andi', 'Rina', 'Dewi']\n",
            "Setelah menghapus Andi: ['agus', 'Ahmad', 'Rina', 'Dewi']\n",
            "Teman pertama: agus\n"
          ]
        }
      ]
    },
    {
      "cell_type": "code",
      "source": [
        "# Membuat tuple berisi koordinat\n",
        "koordinat = (10.5, 20.3)\n",
        "\n",
        "# Mengakses elemen di dalam tuple\n",
        "print(\"Koordinat X:\", koordinat[0])\n",
        "print(\"Koordinat Y:\", koordinat[1])\n",
        "\n",
        "# Tuple tidak bisa diubah, jadi kode berikut akan error jika dijalankan\n",
        "# koordinat[0] = 15.0  # Error!"
      ],
      "metadata": {
        "colab": {
          "base_uri": "https://localhost:8080/"
        },
        "id": "FOGy6nKUgWny",
        "outputId": "91896d10-eca5-47fd-ecce-a814e0c425d5"
      },
      "execution_count": null,
      "outputs": [
        {
          "output_type": "stream",
          "name": "stdout",
          "text": [
            "Koordinat X: 10.5\n",
            "Koordinat Y: 20.3\n"
          ]
        }
      ]
    },
    {
      "cell_type": "code",
      "source": [
        "list1 = list((\"assep\",13,3,2005,7,6,3,\"wahid\",False,True,\"S1 Teknologi Informasi\",True,True))\n",
        "list2 = list((13,3,2005,7,6,3))\n",
        "list3 = list((True,False,True,True))\n",
        "print(type(list1))\n",
        "print(type(list2))\n",
        "print(type(list3))\n",
        "print(type(list1[9]))\n",
        "print(type(list2[2]))\n",
        "print(type(list3[2]))\n",
        "print(list1)\n",
        "print(list2)\n",
        "print(list3)\n",
        "print(list1[5])\n",
        "print(len(list1))\n",
        "print(len(list1[0]))"
      ],
      "metadata": {
        "colab": {
          "base_uri": "https://localhost:8080/"
        },
        "id": "KWXTAIYprbSB",
        "outputId": "6265da88-a814-4793-9830-a97d759c66c8"
      },
      "execution_count": null,
      "outputs": [
        {
          "output_type": "stream",
          "name": "stdout",
          "text": [
            "<class 'list'>\n",
            "<class 'list'>\n",
            "<class 'list'>\n",
            "<class 'bool'>\n",
            "<class 'int'>\n",
            "<class 'bool'>\n",
            "['assep', 13, 3, 2005, 7, 6, 3, 'wahid', False, True, 'S1 Teknologi Informasi', True, True]\n",
            "[13, 3, 2005, 7, 6, 3]\n",
            "[True, False, True, True]\n",
            "6\n",
            "13\n",
            "5\n"
          ]
        }
      ]
    },
    {
      "cell_type": "code",
      "source": [
        "# Membuat set berisi mata pelajaran favorit\n",
        "pelajaran_favorit = {\"Matematika\", \"Fisika\", \"Biologi\"}\n",
        "\n",
        "# Menambahkan elemen ke set\n",
        "pelajaran_favorit.add(\"Kimia\")\n",
        "print(\"Setelah menambah Kimia:\", pelajaran_favorit)\n",
        "\n",
        "# Menambahkan elemen yang sama (tidak akan ditambahkan karena duplikat)\n",
        "pelajaran_favorit.add(\"Fisika\")\n",
        "print(\"Setelah mencoba menambah Fisika lagi:\", pelajaran_favorit)\n",
        "\n",
        "# Menghapus elemen dari set\n",
        "pelajaran_favorit.remove(\"Biologi\")\n",
        "print(\"Setelah menghapus Biologi:\", pelajaran_favorit)"
      ],
      "metadata": {
        "colab": {
          "base_uri": "https://localhost:8080/"
        },
        "id": "UU0ME7dPhQi8",
        "outputId": "32afaead-43bf-4e04-c904-96ee92cb1b42"
      },
      "execution_count": null,
      "outputs": [
        {
          "output_type": "stream",
          "name": "stdout",
          "text": [
            "Setelah menambah Kimia: {'Kimia', 'Matematika', 'Biologi', 'Fisika'}\n",
            "Setelah mencoba menambah Fisika lagi: {'Kimia', 'Matematika', 'Biologi', 'Fisika'}\n",
            "Setelah menghapus Biologi: {'Kimia', 'Matematika', 'Fisika'}\n"
          ]
        }
      ]
    },
    {
      "cell_type": "code",
      "source": [
        "list1 = list((\"assep\",13,3,2005,7,6,3,\"wahid\",False,True,\"S1 Teknologi Informasi\",True,True))\n",
        "list2 = list((13,3,2005,7,6,3))\n",
        "list3 = list((True,False,True,True))\n",
        "print(type(list1))\n",
        "print(type(list2))\n",
        "print(type(list3)) # meanmpilkan tipe dari variabel yang dipanggil\n",
        "print(type(list1[9])) # menampilkan tipe data dari item yang dipanggil\n",
        "print(type(list2[2]))\n",
        "print(type(list3[2]))\n",
        "print(list1)\n",
        "print(list2)\n",
        "print(list3)\n",
        "print(list1[-5]) # minus disini untuk menampilkan item terakhir misalnya -1 berati merujuk pada item terakhir -8 berarti merujuk pada item delapan terakhir\n",
        "print(list1[-2])\n",
        "print(list1[-1])\n",
        "print(list1[-8])\n",
        "print(len(list1))\n",
        "print(len(list1[0]))"
      ],
      "metadata": {
        "colab": {
          "base_uri": "https://localhost:8080/"
        },
        "id": "r6UB938-uGup",
        "outputId": "4d4f1990-74c2-4cf0-ef09-05367b2f8d7e"
      },
      "execution_count": null,
      "outputs": [
        {
          "output_type": "stream",
          "name": "stdout",
          "text": [
            "<class 'list'>\n",
            "<class 'list'>\n",
            "<class 'list'>\n",
            "<class 'bool'>\n",
            "<class 'int'>\n",
            "<class 'bool'>\n",
            "['assep', 13, 3, 2005, 7, 6, 3, 'wahid', False, True, 'S1 Teknologi Informasi', True, True]\n",
            "[13, 3, 2005, 7, 6, 3]\n",
            "[True, False, True, True]\n",
            "False\n",
            "True\n",
            "True\n",
            "6\n",
            "13\n",
            "5\n"
          ]
        }
      ]
    },
    {
      "cell_type": "code",
      "source": [
        "# Membuat dictionary berisi nomor telepon teman\n",
        "kontak_teman = {\n",
        "    \"Budi\": \"081234567890\",\n",
        "    \"Siti\": \"082345678901\",\n",
        "    \"Andi\": \"083456789012\"\n",
        "}\n",
        "\n",
        "# Mengakses nomor telepon berdasarkan nama\n",
        "print(\"Nomor telepon Budi:\", kontak_teman[\"Budi\"])\n",
        "\n",
        "# Menambahkan data baru\n",
        "kontak_teman[\"Dewi\"] = \"084567890123\"\n",
        "print(\"Setelah menambah Dewi:\", kontak_teman)\n",
        "\n",
        "# Mengubah nomor telepon\n",
        "kontak_teman[\"Siti\"] = \"089876543210\"\n",
        "print(\"Setelah mengganti nomor Siti:\", kontak_teman)\n",
        "\n",
        "# Menghapus data\n",
        "del kontak_teman[\"Andi\"]\n",
        "print(\"Setelah menghapus Andi:\", kontak_teman)"
      ],
      "metadata": {
        "id": "cFkPy-_J-vBw",
        "outputId": "14abf237-5ef8-4df5-ad84-74529cd1650a",
        "colab": {
          "base_uri": "https://localhost:8080/"
        }
      },
      "execution_count": null,
      "outputs": [
        {
          "output_type": "stream",
          "name": "stdout",
          "text": [
            "Nomor telepon Budi: 081234567890\n",
            "Setelah menambah Dewi: {'Budi': '081234567890', 'Siti': '082345678901', 'Andi': '083456789012', 'Dewi': '084567890123'}\n",
            "Setelah mengganti nomor Siti: {'Budi': '081234567890', 'Siti': '089876543210', 'Andi': '083456789012', 'Dewi': '084567890123'}\n",
            "Setelah menghapus Andi: {'Budi': '081234567890', 'Siti': '089876543210', 'Dewi': '084567890123'}\n"
          ]
        }
      ]
    },
    {
      "cell_type": "code",
      "source": [
        "list1 = list((\"assep\",13,3,2005,7,6,3,\"wahid\",False,True,\"S1 Teknologi Informasi\",True,True))\n",
        "list2 = list((13,3,2005,7,6,3))\n",
        "list3 = list((True,False,True,True))\n",
        "if \"damar\" in list1:\n",
        "  print(\"yes\")\n",
        "else:\n",
        "  print(\"no\")\n",
        "print(type(list1))\n",
        "print(type(list2))\n",
        "print(type(list3)) # meanmpilkan tipe dari variabel yang dipanggil\n",
        "print(type(list1[9])) # menampilkan tipe data dari item yang dipanggil\n",
        "print(type(list2[2]))\n",
        "print(type(list3[2]))\n",
        "print(list1[-11:4]) # menampilkan rentang dari item terakhir kesebelas sampai item  keempat namun item  keempat tidak termasuk jadi yang akan ditampilkan hanya sampai item ketiga\n",
        "print(list1[-10:-2])\n",
        "print(list1[-11:-4]) # menampilkan rentang dari item terakhir kesebelas sampai item terakhir keempat namun item terakhir keempat tidak termasuk jadi yang akan ditampilkan hanya sampai item terakhir kelima\n",
        "print(list1[3:10])\n",
        "print(list1[3:11])\n",
        "print(list1[:5])\n",
        "print(list1[5:])\n",
        "print(list2)\n",
        "print(list3)\n",
        "print(list1[-5]) # minus disini untuk menampilkan item terakhir misalnya -1 berati merujuk pada item terakhir -8 berarti merujuk pada item delapan terakhir\n",
        "print(list1[-2])\n",
        "print(list1[-1])\n",
        "print(list1[-8])\n",
        "print(len(list1))\n",
        "print(len(list1[0]))"
      ],
      "metadata": {
        "colab": {
          "base_uri": "https://localhost:8080/"
        },
        "id": "RZIKfT2KvorH",
        "outputId": "ad8a6448-02ec-40f3-b200-002d40c3dd7a"
      },
      "execution_count": null,
      "outputs": [
        {
          "output_type": "stream",
          "name": "stdout",
          "text": [
            "no\n",
            "<class 'list'>\n",
            "<class 'list'>\n",
            "<class 'list'>\n",
            "<class 'bool'>\n",
            "<class 'int'>\n",
            "<class 'bool'>\n",
            "[3, 2005]\n",
            "[2005, 7, 6, 3, 'wahid', False, True, 'S1 Teknologi Informasi']\n",
            "[3, 2005, 7, 6, 3, 'wahid', False]\n",
            "[2005, 7, 6, 3, 'wahid', False, True]\n",
            "[2005, 7, 6, 3, 'wahid', False, True, 'S1 Teknologi Informasi']\n",
            "['assep', 13, 3, 2005, 7]\n",
            "[6, 3, 'wahid', False, True, 'S1 Teknologi Informasi', True, True]\n",
            "[13, 3, 2005, 7, 6, 3]\n",
            "[True, False, True, True]\n",
            "False\n",
            "True\n",
            "True\n",
            "6\n",
            "13\n",
            "5\n"
          ]
        }
      ]
    },
    {
      "cell_type": "code",
      "source": [
        "list1 = list((\"assep\",13,3,2005,7,6,3,\"wahid\",False,True,\"S1 Teknologi Informasi\",True,True))\n",
        "for i in range(len(list1)):\n",
        "  print(list1[i])\n",
        "for i in range(2):\n",
        "  print(list1[i])\n",
        "list1.clear()\n",
        "print(list1)"
      ],
      "metadata": {
        "colab": {
          "base_uri": "https://localhost:8080/"
        },
        "id": "9oXEfltnmEHT",
        "outputId": "cbe17f27-3499-41b4-e065-28a02a14981b"
      },
      "execution_count": null,
      "outputs": [
        {
          "output_type": "stream",
          "name": "stdout",
          "text": [
            "assep\n",
            "13\n",
            "[]\n"
          ]
        }
      ]
    },
    {
      "cell_type": "code",
      "source": [
        "# Pertama, kita buat sebuah dictionary untuk menyimpan data mahasiswa.\n",
        "data_mahasiswa = {\n",
        "    \"Nama\": \"Assep Wahid\",    # Menyimpan nama mahasiswa\n",
        "    \"Kelas\": \"Rombel1-TIF\",        # Menyimpan kelas mahasiswa\n",
        "    \"Tanggal Lahir\": \"10 Oktober 2004\",    # Menyimpan tanggal lahir\n",
        "    \"No HP\": \"081234567890\",    # Menyimpan nomor HP\n",
        "    \"Alamat\": \"Jl. Mawar No.10, Jakarta\",  # Menyimpan alamat\n",
        "    \"Hobi\": [\"Bermain game\", \"Membaca buku\", \"membaca komik\"]  # Menyimpan daftar hobi\n",
        "}\n",
        "\n",
        "# Sekarang, kita akan menampilkan semua data mahasiswa tersebut.\n",
        "print(\"=== Data Mahasiswa ===\")\n",
        "\n",
        "# Menggunakan perulangan untuk menampilkan setiap item dari dictionary\n",
        "for kunci, nilai in data_mahasiswa.items():\n",
        "\n",
        "    # Cek apakah nilai berupa list (digunakan untuk data hobi)\n",
        "    if isinstance(nilai, list):\n",
        "        print(f\"{kunci}:\")\n",
        "        # Perulangan lagi untuk setiap hobi yang ada di dalam list\n",
        "        for index, hobi in enumerate(nilai, start=1):\n",
        "            print(f\"  {index}. {hobi}\")\n",
        "    else:\n",
        "        # Jika bukan list, langsung cetak nilainya\n",
        "        print(f\"{kunci}: {nilai}\")\n"
      ],
      "metadata": {
        "colab": {
          "base_uri": "https://localhost:8080/"
        },
        "id": "5sEVJXcYD8LF",
        "outputId": "67bba8de-a232-4e01-f655-bf9208498984"
      },
      "execution_count": 1,
      "outputs": [
        {
          "output_type": "stream",
          "name": "stdout",
          "text": [
            "=== Data Mahasiswa ===\n",
            "Nama: Assep Wahid\n",
            "Kelas: Rombel1-TIF\n",
            "Tanggal Lahir: 10 Oktober 2004\n",
            "No HP: 081234567890\n",
            "Alamat: Jl. Mawar No.10, Jakarta\n",
            "Hobi:\n",
            "  1. Bermain game\n",
            "  2. Membaca buku\n",
            "  3. membaca komik\n"
          ]
        }
      ]
    }
  ]
}