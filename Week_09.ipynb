{
  "nbformat": 4,
  "nbformat_minor": 0,
  "metadata": {
    "colab": {
      "provenance": [],
      "authorship_tag": "ABX9TyPij55HmJoyxKXUStxmJXx6",
      "include_colab_link": true
    },
    "kernelspec": {
      "name": "python3",
      "display_name": "Python 3"
    },
    "language_info": {
      "name": "python"
    }
  },
  "cells": [
    {
      "cell_type": "markdown",
      "metadata": {
        "id": "view-in-github",
        "colab_type": "text"
      },
      "source": [
        "<a href=\"https://colab.research.google.com/github/assepwahid5/praktikum_1/blob/master/Week_09.ipynb\" target=\"_parent\"><img src=\"https://colab.research.google.com/assets/colab-badge.svg\" alt=\"Open In Colab\"/></a>"
      ]
    },
    {
      "cell_type": "code",
      "execution_count": null,
      "metadata": {
        "colab": {
          "base_uri": "https://localhost:8080/"
        },
        "id": "uDUst-ItlvnR",
        "outputId": "a7b8b064-0146-45b3-cfe8-da7d4e88fc95"
      },
      "outputs": [
        {
          "output_type": "stream",
          "name": "stdout",
          "text": [
            "['apple', 'banana', 'Orange', 'Grape']\n",
            "Grape\n"
          ]
        }
      ],
      "source": [
        "thislist = [\"apple\",\"banana\",\"cherry\",\"Grape\"]\n",
        "thislist[2] = \"Orange\"\n",
        "print(thislist)\n",
        "print(thislist[3])"
      ]
    },
    {
      "cell_type": "code",
      "source": [
        "thislist = [\"apple\",\"banana\",\"cherry\",\"Grape\",\"apple\",\"banana\",\"cherry\",\"Grape\"]\n",
        "thislist.insert(2, \"ayam\")\n",
        "thislist.append(\"rorojonggrang\")\n",
        "print(thislist[5])\n",
        "print(thislist)\n",
        "print(len(thislist))\n",
        "print(len(thislist[0]))"
      ],
      "metadata": {
        "colab": {
          "base_uri": "https://localhost:8080/"
        },
        "id": "0j7PBHKlojUB",
        "outputId": "464c0e53-419a-4289-ff63-a684d14aa52e"
      },
      "execution_count": null,
      "outputs": [
        {
          "output_type": "stream",
          "name": "stdout",
          "text": [
            "apple\n",
            "['apple', 'banana', 'ayam', 'cherry', 'Grape', 'apple', 'banana', 'cherry', 'Grape', 'rorojonggrang']\n",
            "10\n",
            "5\n"
          ]
        }
      ]
    },
    {
      "cell_type": "code",
      "source": [
        "list1 = [\"assep\",\"wahid\",\"S1 Teknologi Informasi\"]\n",
        "list2 = [13,3,2005,7,6,3]\n",
        "list3 = [True,False,True,True]\n",
        "for x in list1 :\n",
        "  print(x)\n",
        "list1.remove(\"wahid\")\n",
        "list1.pop(0) # hapus item sesuai indeks pertama\n",
        "list2.pop(int(input(\"masukan indeks berapa yang ingin dihapus = \")))\n",
        "list3.pop()# hapus item terakhir\n",
        "list1.extend(list3),list1.extend(list2)\n",
        "print(type(list1))\n",
        "print(type(list2))\n",
        "print(type(list3))\n",
        "print(type(list1[2]))\n",
        "print(type(list2[2]))\n",
        "print(type(list3[2]))\n",
        "print(list1)\n",
        "print(list2)\n",
        "print(list3)"
      ],
      "metadata": {
        "colab": {
          "base_uri": "https://localhost:8080/"
        },
        "id": "F6cgAc72piIB",
        "outputId": "5d660fb8-128f-4b6b-95d1-8e89d6396c61"
      },
      "execution_count": null,
      "outputs": [
        {
          "output_type": "stream",
          "name": "stdout",
          "text": [
            "assep\n",
            "wahid\n",
            "S1 Teknologi Informasi\n",
            "masukan indeks berapa yang ingin dihapus = 5\n",
            "<class 'list'>\n",
            "<class 'list'>\n",
            "<class 'list'>\n",
            "<class 'bool'>\n",
            "<class 'int'>\n",
            "<class 'bool'>\n",
            "['S1 Teknologi Informasi', True, False, True, 13, 3, 2005, 7, 6]\n",
            "[13, 3, 2005, 7, 6]\n",
            "[True, False, True]\n"
          ]
        }
      ]
    },
    {
      "cell_type": "code",
      "source": [
        "list1 = [\"assep\",13,3,2005,7,6,3,\"wahid\",False,True,\"S1 Teknologi Informasi\",True,True]\n",
        "list2 = [13,3,2005,7,6,3]\n",
        "list3 = [True,False,True,True]\n",
        "list1[7:10] = [\"sumpal\",\"sederhana\",1]\n",
        "print(type(list1))\n",
        "print(type(list2))\n",
        "print(type(list3))\n",
        "print(type(list1[9]))\n",
        "print(type(list2[2]))\n",
        "print(type(list3[2]))\n",
        "print(list1)\n",
        "print(list2)\n",
        "print(list3)"
      ],
      "metadata": {
        "colab": {
          "base_uri": "https://localhost:8080/"
        },
        "id": "-g8_PaZMryJg",
        "outputId": "409bcbcf-02a5-41c5-826a-e3e090703ddc"
      },
      "execution_count": null,
      "outputs": [
        {
          "output_type": "stream",
          "name": "stdout",
          "text": [
            "<class 'list'>\n",
            "<class 'list'>\n",
            "<class 'list'>\n",
            "<class 'int'>\n",
            "<class 'int'>\n",
            "<class 'bool'>\n",
            "['assep', 13, 3, 2005, 7, 6, 3, 'sumpal', 'sederhana', 1, 'S1 Teknologi Informasi', True, True]\n",
            "[13, 3, 2005, 7, 6, 3]\n",
            "[True, False, True, True]\n"
          ]
        }
      ]
    },
    {
      "cell_type": "code",
      "source": [
        "list1 = list((\"assep\",13,3,2005,7,6,3,\"wahid\",False,True,\"S1 Teknologi Informasi\",True,True))\n",
        "list2 = list((13,3,2005,7,6,3))\n",
        "list3 = list((True,False,True,True))\n",
        "print(type(list1))\n",
        "print(type(list2))\n",
        "print(type(list3))\n",
        "print(type(list1[9]))\n",
        "print(type(list2[2]))\n",
        "print(type(list3[2]))\n",
        "print(list1)\n",
        "print(list2)\n",
        "print(list3)\n",
        "print(list1[5])\n",
        "print(len(list1))\n",
        "print(len(list1[0]))"
      ],
      "metadata": {
        "colab": {
          "base_uri": "https://localhost:8080/"
        },
        "id": "KWXTAIYprbSB",
        "outputId": "6265da88-a814-4793-9830-a97d759c66c8"
      },
      "execution_count": null,
      "outputs": [
        {
          "output_type": "stream",
          "name": "stdout",
          "text": [
            "<class 'list'>\n",
            "<class 'list'>\n",
            "<class 'list'>\n",
            "<class 'bool'>\n",
            "<class 'int'>\n",
            "<class 'bool'>\n",
            "['assep', 13, 3, 2005, 7, 6, 3, 'wahid', False, True, 'S1 Teknologi Informasi', True, True]\n",
            "[13, 3, 2005, 7, 6, 3]\n",
            "[True, False, True, True]\n",
            "6\n",
            "13\n",
            "5\n"
          ]
        }
      ]
    },
    {
      "cell_type": "code",
      "source": [
        "list1 = list((\"assep\",13,3,2005,7,6,3,\"wahid\",False,True,\"S1 Teknologi Informasi\",True,True))\n",
        "list2 = list((13,3,2005,7,6,3))\n",
        "list3 = list((True,False,True,True))\n",
        "print(type(list1))\n",
        "print(type(list2))\n",
        "print(type(list3)) # meanmpilkan tipe dari variabel yang dipanggil\n",
        "print(type(list1[9])) # menampilkan tipe data dari item yang dipanggil\n",
        "print(type(list2[2]))\n",
        "print(type(list3[2]))\n",
        "print(list1)\n",
        "print(list2)\n",
        "print(list3)\n",
        "print(list1[-5]) # minus disini untuk menampilkan item terakhir misalnya -1 berati merujuk pada item terakhir -8 berarti merujuk pada item delapan terakhir\n",
        "print(list1[-2])\n",
        "print(list1[-1])\n",
        "print(list1[-8])\n",
        "print(len(list1))\n",
        "print(len(list1[0]))"
      ],
      "metadata": {
        "colab": {
          "base_uri": "https://localhost:8080/"
        },
        "id": "r6UB938-uGup",
        "outputId": "4d4f1990-74c2-4cf0-ef09-05367b2f8d7e"
      },
      "execution_count": null,
      "outputs": [
        {
          "output_type": "stream",
          "name": "stdout",
          "text": [
            "<class 'list'>\n",
            "<class 'list'>\n",
            "<class 'list'>\n",
            "<class 'bool'>\n",
            "<class 'int'>\n",
            "<class 'bool'>\n",
            "['assep', 13, 3, 2005, 7, 6, 3, 'wahid', False, True, 'S1 Teknologi Informasi', True, True]\n",
            "[13, 3, 2005, 7, 6, 3]\n",
            "[True, False, True, True]\n",
            "False\n",
            "True\n",
            "True\n",
            "6\n",
            "13\n",
            "5\n"
          ]
        }
      ]
    },
    {
      "cell_type": "code",
      "source": [
        "list1 = list((\"assep\",13,3,2005,7,6,3,\"wahid\",False,True,\"S1 Teknologi Informasi\",True,True))\n",
        "list2 = list((13,3,2005,7,6,3))\n",
        "list3 = list((True,False,True,True))\n",
        "if \"damar\" in list1:\n",
        "  print(\"yes\")\n",
        "else:\n",
        "  print(\"no\")\n",
        "print(type(list1))\n",
        "print(type(list2))\n",
        "print(type(list3)) # meanmpilkan tipe dari variabel yang dipanggil\n",
        "print(type(list1[9])) # menampilkan tipe data dari item yang dipanggil\n",
        "print(type(list2[2]))\n",
        "print(type(list3[2]))\n",
        "print(list1[-11:4]) # menampilkan rentang dari item terakhir kesebelas sampai item  keempat namun item  keempat tidak termasuk jadi yang akan ditampilkan hanya sampai item ketiga\n",
        "print(list1[-10:-2])\n",
        "print(list1[-11:-4]) # menampilkan rentang dari item terakhir kesebelas sampai item terakhir keempat namun item terakhir keempat tidak termasuk jadi yang akan ditampilkan hanya sampai item terakhir kelima\n",
        "print(list1[3:10])\n",
        "print(list1[3:11])\n",
        "print(list1[:5])\n",
        "print(list1[5:])\n",
        "print(list2)\n",
        "print(list3)\n",
        "print(list1[-5]) # minus disini untuk menampilkan item terakhir misalnya -1 berati merujuk pada item terakhir -8 berarti merujuk pada item delapan terakhir\n",
        "print(list1[-2])\n",
        "print(list1[-1])\n",
        "print(list1[-8])\n",
        "print(len(list1))\n",
        "print(len(list1[0]))"
      ],
      "metadata": {
        "colab": {
          "base_uri": "https://localhost:8080/"
        },
        "id": "RZIKfT2KvorH",
        "outputId": "ad8a6448-02ec-40f3-b200-002d40c3dd7a"
      },
      "execution_count": null,
      "outputs": [
        {
          "output_type": "stream",
          "name": "stdout",
          "text": [
            "no\n",
            "<class 'list'>\n",
            "<class 'list'>\n",
            "<class 'list'>\n",
            "<class 'bool'>\n",
            "<class 'int'>\n",
            "<class 'bool'>\n",
            "[3, 2005]\n",
            "[2005, 7, 6, 3, 'wahid', False, True, 'S1 Teknologi Informasi']\n",
            "[3, 2005, 7, 6, 3, 'wahid', False]\n",
            "[2005, 7, 6, 3, 'wahid', False, True]\n",
            "[2005, 7, 6, 3, 'wahid', False, True, 'S1 Teknologi Informasi']\n",
            "['assep', 13, 3, 2005, 7]\n",
            "[6, 3, 'wahid', False, True, 'S1 Teknologi Informasi', True, True]\n",
            "[13, 3, 2005, 7, 6, 3]\n",
            "[True, False, True, True]\n",
            "False\n",
            "True\n",
            "True\n",
            "6\n",
            "13\n",
            "5\n"
          ]
        }
      ]
    },
    {
      "cell_type": "code",
      "source": [
        "list1 = list((\"assep\",13,3,2005,7,6,3,\"wahid\",False,True,\"S1 Teknologi Informasi\",True,True))\n",
        "for i in range(len(list1)):\n",
        "  print(list1[i])\n",
        "for i in range(2):\n",
        "  print(list1[i])\n",
        "list1.clear()\n",
        "print(list1)"
      ],
      "metadata": {
        "colab": {
          "base_uri": "https://localhost:8080/"
        },
        "id": "9oXEfltnmEHT",
        "outputId": "cbe17f27-3499-41b4-e065-28a02a14981b"
      },
      "execution_count": null,
      "outputs": [
        {
          "output_type": "stream",
          "name": "stdout",
          "text": [
            "assep\n",
            "13\n",
            "[]\n"
          ]
        }
      ]
    }
  ]
}